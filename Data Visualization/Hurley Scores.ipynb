{
 "cells": [
  {
   "cell_type": "markdown",
   "id": "5d81b13f-03f2-434b-a6d7-b9c3d7d55592",
   "metadata": {},
   "source": [
    "NOTE: When referencing episodes of the show, shorthand may be used (e.g., S3E7 is Season 3 Episode 7).\n",
    "\n",
    "# How Does Hurley Correlate with Episode Score?\n",
    "\n",
    "Now we arrive at the part of the project that inspired this whole thing: checking the correlation between Hurley's wordcount and the IMDb rating of an episode. First, we borrow some code from the `Top Five Talkers Over Time` notebook."
   ]
  },
  {
   "cell_type": "code",
   "execution_count": 39,
   "id": "a0025b9c-4dd8-47a0-bfa0-b2deeaed5413",
   "metadata": {},
   "outputs": [],
   "source": [
    "import pandas as pd\n",
    "from matplotlib import pyplot as plt\n",
    "%matplotlib inline\n",
    "import numpy as np\n",
    "import math"
   ]
  },
  {
   "cell_type": "code",
   "execution_count": 12,
   "id": "f52e0bfd-9753-44d9-ba14-224c2df72c65",
   "metadata": {},
   "outputs": [],
   "source": [
    "# HURLEY \n",
    "\n",
    "episode_counter = 0\n",
    "eps_per_season = [24,23,22,13,16]\n",
    "hurley_wc = pd.DataFrame()\n",
    "\n",
    "for season in range(1,6): #need a separate case for season 6\n",
    "    for ep_num in range(1,eps_per_season[season-1]+1):\n",
    "        episode_table = pd.read_csv(\"../Word Count Tables/Season \"+str(season)+'/S'+str(season)+'E'+str(ep_num)+'.csv')\n",
    "        episode_counter += 1\n",
    "        if episode_table[episode_table['Character']=='HURLEY'].empty:\n",
    "            hurley_wc = pd.concat([hurley_wc, pd.DataFrame({'Character': ['HURLEY'], 'Word Count': [0]})], axis=0)\n",
    "        else:\n",
    "            hurley_wc = pd.concat([hurley_wc, episode_table[episode_table['Character']=='HURLEY']], axis=0)\n",
    "\n",
    "episode_table = pd.read_csv(\"../Word Count Tables/Season 6/S6E1.csv\")\n",
    "episode_counter += 1\n",
    "if episode_table[episode_table['Character']=='HURLEY'].empty:\n",
    "    hurley_wc = pd.concat([hurley_wc, pd.DataFrame({'Character': ['HURLEY'], 'Word Count': [0]})], axis=0)\n",
    "else:\n",
    "    hurley_wc = pd.concat([hurley_wc, episode_table[episode_table['Character']=='HURLEY']], axis=0)\n",
    "\n",
    "season = 6\n",
    "for ep_num in range(3,18):\n",
    "    episode_table = pd.read_csv(\"../Word Count Tables/Season \"+str(season)+'/S'+str(season)+'E'+str(ep_num)+'.csv')\n",
    "    episode_counter += 1\n",
    "    if episode_table[episode_table['Character']=='HURLEY'].empty:\n",
    "        hurley_wc = pd.concat([hurley_wc, pd.DataFrame({'Character': ['HURLEY'], 'Word Count': [0]})], axis=0)\n",
    "    else:\n",
    "        hurley_wc = pd.concat([hurley_wc, episode_table[episode_table['Character']=='HURLEY']], axis=0)\n",
    "hurley_wc['Episode'] = range(1,115)"
   ]
  },
  {
   "cell_type": "code",
   "execution_count": 13,
   "id": "f62b3d0a-882d-43c7-81e0-59341d2f16fc",
   "metadata": {},
   "outputs": [],
   "source": [
    "scores = pd.read_csv('../LOST_IMDb_Ratings.csv')"
   ]
  },
  {
   "cell_type": "code",
   "execution_count": 19,
   "id": "ca6fb163-a17d-4555-91c4-6929f2432d69",
   "metadata": {},
   "outputs": [],
   "source": [
    "hurley_list = list(hurley_wc['Word Count'])"
   ]
  },
  {
   "cell_type": "code",
   "execution_count": 20,
   "id": "115da77a-cec6-4f31-837a-842d6c128206",
   "metadata": {},
   "outputs": [
    {
     "data": {
      "text/html": [
       "<div>\n",
       "<style scoped>\n",
       "    .dataframe tbody tr th:only-of-type {\n",
       "        vertical-align: middle;\n",
       "    }\n",
       "\n",
       "    .dataframe tbody tr th {\n",
       "        vertical-align: top;\n",
       "    }\n",
       "\n",
       "    .dataframe thead th {\n",
       "        text-align: right;\n",
       "    }\n",
       "</style>\n",
       "<table border=\"1\" class=\"dataframe\">\n",
       "  <thead>\n",
       "    <tr style=\"text-align: right;\">\n",
       "      <th></th>\n",
       "      <th>Unnamed: 0</th>\n",
       "      <th>S1</th>\n",
       "      <th>S2</th>\n",
       "      <th>S3</th>\n",
       "      <th>S4</th>\n",
       "      <th>S5</th>\n",
       "      <th>S6</th>\n",
       "    </tr>\n",
       "  </thead>\n",
       "  <tbody>\n",
       "    <tr>\n",
       "      <th>0</th>\n",
       "      <td>E1</td>\n",
       "      <td>9.1</td>\n",
       "      <td>9.1</td>\n",
       "      <td>8.5</td>\n",
       "      <td>8.7</td>\n",
       "      <td>8.7</td>\n",
       "      <td>8.6</td>\n",
       "    </tr>\n",
       "    <tr>\n",
       "      <th>1</th>\n",
       "      <td>E2</td>\n",
       "      <td>9.1</td>\n",
       "      <td>8.3</td>\n",
       "      <td>7.9</td>\n",
       "      <td>8.6</td>\n",
       "      <td>8.1</td>\n",
       "      <td>8.3</td>\n",
       "    </tr>\n",
       "    <tr>\n",
       "      <th>2</th>\n",
       "      <td>E3</td>\n",
       "      <td>8.3</td>\n",
       "      <td>8.7</td>\n",
       "      <td>7.8</td>\n",
       "      <td>8.3</td>\n",
       "      <td>8.4</td>\n",
       "      <td>7.5</td>\n",
       "    </tr>\n",
       "    <tr>\n",
       "      <th>3</th>\n",
       "      <td>E4</td>\n",
       "      <td>9.0</td>\n",
       "      <td>8.2</td>\n",
       "      <td>8.2</td>\n",
       "      <td>8.0</td>\n",
       "      <td>8.2</td>\n",
       "      <td>8.2</td>\n",
       "    </tr>\n",
       "    <tr>\n",
       "      <th>4</th>\n",
       "      <td>E5</td>\n",
       "      <td>8.3</td>\n",
       "      <td>7.7</td>\n",
       "      <td>8.0</td>\n",
       "      <td>9.7</td>\n",
       "      <td>8.6</td>\n",
       "      <td>7.9</td>\n",
       "    </tr>\n",
       "  </tbody>\n",
       "</table>\n",
       "</div>"
      ],
      "text/plain": [
       "  Unnamed: 0   S1   S2   S3   S4   S5   S6\n",
       "0         E1  9.1  9.1  8.5  8.7  8.7  8.6\n",
       "1         E2  9.1  8.3  7.9  8.6  8.1  8.3\n",
       "2         E3  8.3  8.7  7.8  8.3  8.4  7.5\n",
       "3         E4  9.0  8.2  8.2  8.0  8.2  8.2\n",
       "4         E5  8.3  7.7  8.0  9.7  8.6  7.9"
      ]
     },
     "execution_count": 20,
     "metadata": {},
     "output_type": "execute_result"
    }
   ],
   "source": [
    "scores.head()"
   ]
  },
  {
   "cell_type": "code",
   "execution_count": 64,
   "id": "afb62954-f088-4782-9f7c-d1a47697fac0",
   "metadata": {},
   "outputs": [],
   "source": [
    "scores_list = []\n",
    "for n in range(1,7):\n",
    "    scores_list.extend([x for x in list(scores['S'+str(n)]) if not math.isnan(x)][:-1])\n",
    "del scores_list[-16] # S6 premiere part 2"
   ]
  },
  {
   "cell_type": "code",
   "execution_count": 65,
   "id": "9b94b8c1-e070-4470-9454-78f8518f5171",
   "metadata": {},
   "outputs": [
    {
     "name": "stdout",
     "output_type": "stream",
     "text": [
      "114\n",
      "114\n"
     ]
    }
   ],
   "source": [
    "print(len(hurley_list))\n",
    "print(len(scores_list))"
   ]
  },
  {
   "cell_type": "code",
   "execution_count": 69,
   "id": "47f6bd74-89e9-4601-9285-c080a49992a6",
   "metadata": {},
   "outputs": [
    {
     "data": {
      "image/png": "[encoded data removed]",
      "text/plain": [
       "<Figure size 640x480 with 1 Axes>"
      ]
     },
     "metadata": {},
     "output_type": "display_data"
    }
   ],
   "source": [
    "plt.scatter(hurley_list,scores_list, alpha=0.7, color='tab:olive')\n",
    "\n",
    "plt.title(\"Hurley's Word Count vs IMDb Score\")\n",
    "plt.xlabel(\"Word Count\")\n",
    "plt.ylabel(\"Score\")\n",
    "plt.tight_layout()\n",
    "#plt.savefig('hurley_vs_scores.png')\n",
    "plt.show()"
   ]
  },
  {
   "cell_type": "code",
   "execution_count": null,
   "id": "9f4b0835-780d-4946-85e1-6af3695b22b6",
   "metadata": {},
   "outputs": [],
   "source": []
  }
 ],
 "metadata": {
  "kernelspec": {
   "display_name": "Python 3 (ipykernel)",
   "language": "python",
   "name": "python3"
  },
  "language_info": {
   "codemirror_mode": {
    "name": "ipython",
    "version": 3
   },
   "file_extension": ".py",
   "mimetype": "text/x-python",
   "name": "python",
   "nbconvert_exporter": "python",
   "pygments_lexer": "ipython3",
   "version": "3.12.7"
  }
 },
 "nbformat": 4,
 "nbformat_minor": 5
}
