{
 "cells": [
  {
   "cell_type": "markdown",
   "id": "12ff05f1-8f0c-4948-a212-764bc622268a",
   "metadata": {},
   "source": [
    "NOTE: When referencing episodes of the show, shorthand may be used (e.g., S3E7 is Season 3 Episode 7). Some people may consider character word counts to be a spoiler, proceed at your own risk. \n",
    "\n",
    "# Word Count Histograms\n",
    "\n",
    "Now that we have our word count tables, we can aggregate the data, look for anything that might need to be cleaned up, and start comparing show-wide word counts for different characters. "
   ]
  },
  {
   "cell_type": "code",
   "execution_count": 1,
   "id": "ee51b721-676c-495e-80d9-a76796be9134",
   "metadata": {},
   "outputs": [],
   "source": [
    "import pandas as pd\n",
    "from matplotlib import pyplot as plt\n",
    "%matplotlib inline\n",
    "import numpy as np\n",
    "from PIL import Image\n",
    "from io import BytesIO"
   ]
  },
  {
   "cell_type": "code",
   "execution_count": 2,
   "id": "291509cb-498c-40fd-b35d-f93fac230085",
   "metadata": {},
   "outputs": [],
   "source": [
    "s1_cumul = pd.DataFrame()\n",
    "season = 1\n",
    "for ep_num in range(1,25):\n",
    "    episode_table = pd.read_csv(\"../Word Count Tables/Season \"+str(season)+'/S'+str(season)+'E'+str(ep_num)+'.csv')\n",
    "    s1_cumul = pd.concat([s1_cumul, episode_table], axis=0)\n",
    "s1_cumul = s1_cumul.groupby(['Character']).sum().reset_index()"
   ]
  },
  {
   "cell_type": "code",
   "execution_count": 3,
   "id": "17094550-44b4-4f32-a1d9-07b681829758",
   "metadata": {},
   "outputs": [
    {
     "data": {
      "text/html": [
       "<div>\n",
       "<style scoped>\n",
       "    .dataframe tbody tr th:only-of-type {\n",
       "        vertical-align: middle;\n",
       "    }\n",
       "\n",
       "    .dataframe tbody tr th {\n",
       "        vertical-align: top;\n",
       "    }\n",
       "\n",
       "    .dataframe thead th {\n",
       "        text-align: right;\n",
       "    }\n",
       "</style>\n",
       "<table border=\"1\" class=\"dataframe\">\n",
       "  <thead>\n",
       "    <tr style=\"text-align: right;\">\n",
       "      <th></th>\n",
       "      <th>Character</th>\n",
       "      <th>Word Count</th>\n",
       "    </tr>\n",
       "  </thead>\n",
       "  <tbody>\n",
       "    <tr>\n",
       "      <th>56</th>\n",
       "      <td>JACK</td>\n",
       "      <td>11632</td>\n",
       "    </tr>\n",
       "    <tr>\n",
       "      <th>73</th>\n",
       "      <td>LOCKE</td>\n",
       "      <td>7475</td>\n",
       "    </tr>\n",
       "    <tr>\n",
       "      <th>20</th>\n",
       "      <td>CHARLIE</td>\n",
       "      <td>7230</td>\n",
       "    </tr>\n",
       "    <tr>\n",
       "      <th>119</th>\n",
       "      <td>SAWYER</td>\n",
       "      <td>6984</td>\n",
       "    </tr>\n",
       "    <tr>\n",
       "      <th>121</th>\n",
       "      <td>SAYID</td>\n",
       "      <td>6971</td>\n",
       "    </tr>\n",
       "    <tr>\n",
       "      <th>63</th>\n",
       "      <td>KATE</td>\n",
       "      <td>6495</td>\n",
       "    </tr>\n",
       "    <tr>\n",
       "      <th>87</th>\n",
       "      <td>MICHAEL</td>\n",
       "      <td>6357</td>\n",
       "    </tr>\n",
       "    <tr>\n",
       "      <th>52</th>\n",
       "      <td>HURLEY</td>\n",
       "      <td>5548</td>\n",
       "    </tr>\n",
       "    <tr>\n",
       "      <th>14</th>\n",
       "      <td>BOONE</td>\n",
       "      <td>3981</td>\n",
       "    </tr>\n",
       "    <tr>\n",
       "      <th>23</th>\n",
       "      <td>CLAIRE</td>\n",
       "      <td>3114</td>\n",
       "    </tr>\n",
       "  </tbody>\n",
       "</table>\n",
       "</div>"
      ],
      "text/plain": [
       "    Character  Word Count\n",
       "56       JACK       11632\n",
       "73      LOCKE        7475\n",
       "20    CHARLIE        7230\n",
       "119    SAWYER        6984\n",
       "121     SAYID        6971\n",
       "63       KATE        6495\n",
       "87    MICHAEL        6357\n",
       "52     HURLEY        5548\n",
       "14      BOONE        3981\n",
       "23     CLAIRE        3114"
      ]
     },
     "execution_count": 3,
     "metadata": {},
     "output_type": "execute_result"
    }
   ],
   "source": [
    "s1_cumul.sort_values(['Word Count'], ascending=False)[:10]"
   ]
  },
  {
   "cell_type": "code",
   "execution_count": 4,
   "id": "57e12fc9-8607-45d3-ab08-f863c12b262a",
   "metadata": {},
   "outputs": [],
   "source": [
    "s2_cumul = pd.DataFrame()\n",
    "season = 2\n",
    "for ep_num in range(1,24):\n",
    "    episode_table = pd.read_csv(\"../Word Count Tables/Season \"+str(season)+'/S'+str(season)+'E'+str(ep_num)+'.csv')\n",
    "    s2_cumul = pd.concat([s2_cumul, episode_table], axis=0)\n",
    "s2_cumul = s2_cumul.groupby(['Character']).sum().reset_index()"
   ]
  },
  {
   "cell_type": "code",
   "execution_count": 5,
   "id": "148e736a-8a3a-492c-9a3e-07a11b90ae3f",
   "metadata": {},
   "outputs": [
    {
     "data": {
      "text/html": [
       "<div>\n",
       "<style scoped>\n",
       "    .dataframe tbody tr th:only-of-type {\n",
       "        vertical-align: middle;\n",
       "    }\n",
       "\n",
       "    .dataframe tbody tr th {\n",
       "        vertical-align: top;\n",
       "    }\n",
       "\n",
       "    .dataframe thead th {\n",
       "        text-align: right;\n",
       "    }\n",
       "</style>\n",
       "<table border=\"1\" class=\"dataframe\">\n",
       "  <thead>\n",
       "    <tr style=\"text-align: right;\">\n",
       "      <th></th>\n",
       "      <th>Character</th>\n",
       "      <th>Word Count</th>\n",
       "    </tr>\n",
       "  </thead>\n",
       "  <tbody>\n",
       "    <tr>\n",
       "      <th>60</th>\n",
       "      <td>JACK</td>\n",
       "      <td>7457</td>\n",
       "    </tr>\n",
       "    <tr>\n",
       "      <th>75</th>\n",
       "      <td>LOCKE</td>\n",
       "      <td>6759</td>\n",
       "    </tr>\n",
       "    <tr>\n",
       "      <th>124</th>\n",
       "      <td>SAWYER</td>\n",
       "      <td>5694</td>\n",
       "    </tr>\n",
       "    <tr>\n",
       "      <th>56</th>\n",
       "      <td>HURLEY</td>\n",
       "      <td>4315</td>\n",
       "    </tr>\n",
       "    <tr>\n",
       "      <th>18</th>\n",
       "      <td>CHARLIE</td>\n",
       "      <td>3936</td>\n",
       "    </tr>\n",
       "    <tr>\n",
       "      <th>37</th>\n",
       "      <td>EKO</td>\n",
       "      <td>3677</td>\n",
       "    </tr>\n",
       "    <tr>\n",
       "      <th>88</th>\n",
       "      <td>MICHAEL</td>\n",
       "      <td>3562</td>\n",
       "    </tr>\n",
       "    <tr>\n",
       "      <th>67</th>\n",
       "      <td>KATE</td>\n",
       "      <td>3311</td>\n",
       "    </tr>\n",
       "    <tr>\n",
       "      <th>125</th>\n",
       "      <td>SAYID</td>\n",
       "      <td>3286</td>\n",
       "    </tr>\n",
       "    <tr>\n",
       "      <th>30</th>\n",
       "      <td>DESMOND</td>\n",
       "      <td>2478</td>\n",
       "    </tr>\n",
       "  </tbody>\n",
       "</table>\n",
       "</div>"
      ],
      "text/plain": [
       "    Character  Word Count\n",
       "60       JACK        7457\n",
       "75      LOCKE        6759\n",
       "124    SAWYER        5694\n",
       "56     HURLEY        4315\n",
       "18    CHARLIE        3936\n",
       "37        EKO        3677\n",
       "88    MICHAEL        3562\n",
       "67       KATE        3311\n",
       "125     SAYID        3286\n",
       "30    DESMOND        2478"
      ]
     },
     "execution_count": 5,
     "metadata": {},
     "output_type": "execute_result"
    }
   ],
   "source": [
    "s2_cumul.sort_values(['Word Count'], ascending=False)[:10]"
   ]
  },
  {
   "cell_type": "code",
   "execution_count": 6,
   "id": "1e49841d-c13a-4fbc-8cf7-77f963d3993d",
   "metadata": {},
   "outputs": [],
   "source": [
    "s3_cumul = pd.DataFrame()\n",
    "season = 3\n",
    "for ep_num in range(1,23):\n",
    "    episode_table = pd.read_csv(\"../Word Count Tables/Season \"+str(season)+'/S'+str(season)+'E'+str(ep_num)+'.csv')\n",
    "    s3_cumul = pd.concat([s3_cumul, episode_table], axis=0)\n",
    "s3_cumul = s3_cumul.groupby(['Character']).sum().reset_index()"
   ]
  },
  {
   "cell_type": "code",
   "execution_count": 7,
   "id": "8cba329d-4134-4bec-9be9-6d5ddef521b8",
   "metadata": {},
   "outputs": [
    {
     "data": {
      "text/html": [
       "<div>\n",
       "<style scoped>\n",
       "    .dataframe tbody tr th:only-of-type {\n",
       "        vertical-align: middle;\n",
       "    }\n",
       "\n",
       "    .dataframe tbody tr th {\n",
       "        vertical-align: top;\n",
       "    }\n",
       "\n",
       "    .dataframe thead th {\n",
       "        text-align: right;\n",
       "    }\n",
       "</style>\n",
       "<table border=\"1\" class=\"dataframe\">\n",
       "  <thead>\n",
       "    <tr style=\"text-align: right;\">\n",
       "      <th></th>\n",
       "      <th>Character</th>\n",
       "      <th>Word Count</th>\n",
       "    </tr>\n",
       "  </thead>\n",
       "  <tbody>\n",
       "    <tr>\n",
       "      <th>76</th>\n",
       "      <td>JACK</td>\n",
       "      <td>6271</td>\n",
       "    </tr>\n",
       "    <tr>\n",
       "      <th>19</th>\n",
       "      <td>BEN</td>\n",
       "      <td>6019</td>\n",
       "    </tr>\n",
       "    <tr>\n",
       "      <th>152</th>\n",
       "      <td>SAWYER</td>\n",
       "      <td>5818</td>\n",
       "    </tr>\n",
       "    <tr>\n",
       "      <th>83</th>\n",
       "      <td>JULIET</td>\n",
       "      <td>5262</td>\n",
       "    </tr>\n",
       "    <tr>\n",
       "      <th>29</th>\n",
       "      <td>CHARLIE</td>\n",
       "      <td>4806</td>\n",
       "    </tr>\n",
       "    <tr>\n",
       "      <th>92</th>\n",
       "      <td>LOCKE</td>\n",
       "      <td>4648</td>\n",
       "    </tr>\n",
       "    <tr>\n",
       "      <th>85</th>\n",
       "      <td>KATE</td>\n",
       "      <td>4512</td>\n",
       "    </tr>\n",
       "    <tr>\n",
       "      <th>73</th>\n",
       "      <td>HURLEY</td>\n",
       "      <td>4195</td>\n",
       "    </tr>\n",
       "    <tr>\n",
       "      <th>42</th>\n",
       "      <td>DESMOND</td>\n",
       "      <td>4134</td>\n",
       "    </tr>\n",
       "    <tr>\n",
       "      <th>153</th>\n",
       "      <td>SAYID</td>\n",
       "      <td>2868</td>\n",
       "    </tr>\n",
       "  </tbody>\n",
       "</table>\n",
       "</div>"
      ],
      "text/plain": [
       "    Character  Word Count\n",
       "76       JACK        6271\n",
       "19        BEN        6019\n",
       "152    SAWYER        5818\n",
       "83     JULIET        5262\n",
       "29    CHARLIE        4806\n",
       "92      LOCKE        4648\n",
       "85       KATE        4512\n",
       "73     HURLEY        4195\n",
       "42    DESMOND        4134\n",
       "153     SAYID        2868"
      ]
     },
     "execution_count": 7,
     "metadata": {},
     "output_type": "execute_result"
    }
   ],
   "source": [
    "s3_cumul.sort_values(['Word Count'], ascending=False)[:10]"
   ]
  },
  {
   "cell_type": "code",
   "execution_count": 8,
   "id": "9f516bab-3322-44a9-8e28-7fea9a384c70",
   "metadata": {},
   "outputs": [],
   "source": [
    "s4_cumul = pd.DataFrame()\n",
    "season = 4\n",
    "for ep_num in range(1,14):\n",
    "    episode_table = pd.read_csv(\"../Word Count Tables/Season \"+str(season)+'/S'+str(season)+'E'+str(ep_num)+'.csv')\n",
    "    s4_cumul = pd.concat([s4_cumul, episode_table], axis=0)\n",
    "s4_cumul = s4_cumul.groupby(['Character']).sum().reset_index()"
   ]
  },
  {
   "cell_type": "code",
   "execution_count": 9,
   "id": "4214ab7b-3ca2-4e9c-8c9f-05e91e4babb4",
   "metadata": {},
   "outputs": [
    {
     "data": {
      "text/html": [
       "<div>\n",
       "<style scoped>\n",
       "    .dataframe tbody tr th:only-of-type {\n",
       "        vertical-align: middle;\n",
       "    }\n",
       "\n",
       "    .dataframe tbody tr th {\n",
       "        vertical-align: top;\n",
       "    }\n",
       "\n",
       "    .dataframe thead th {\n",
       "        text-align: right;\n",
       "    }\n",
       "</style>\n",
       "<table border=\"1\" class=\"dataframe\">\n",
       "  <thead>\n",
       "    <tr style=\"text-align: right;\">\n",
       "      <th></th>\n",
       "      <th>Character</th>\n",
       "      <th>Word Count</th>\n",
       "    </tr>\n",
       "  </thead>\n",
       "  <tbody>\n",
       "    <tr>\n",
       "      <th>66</th>\n",
       "      <td>JACK</td>\n",
       "      <td>4137</td>\n",
       "    </tr>\n",
       "    <tr>\n",
       "      <th>12</th>\n",
       "      <td>BEN</td>\n",
       "      <td>4059</td>\n",
       "    </tr>\n",
       "    <tr>\n",
       "      <th>81</th>\n",
       "      <td>LOCKE</td>\n",
       "      <td>3005</td>\n",
       "    </tr>\n",
       "    <tr>\n",
       "      <th>77</th>\n",
       "      <td>KATE</td>\n",
       "      <td>2627</td>\n",
       "    </tr>\n",
       "    <tr>\n",
       "      <th>64</th>\n",
       "      <td>HURLEY</td>\n",
       "      <td>2461</td>\n",
       "    </tr>\n",
       "    <tr>\n",
       "      <th>135</th>\n",
       "      <td>SAYID</td>\n",
       "      <td>2421</td>\n",
       "    </tr>\n",
       "    <tr>\n",
       "      <th>134</th>\n",
       "      <td>SAWYER</td>\n",
       "      <td>2260</td>\n",
       "    </tr>\n",
       "    <tr>\n",
       "      <th>75</th>\n",
       "      <td>JULIET</td>\n",
       "      <td>2230</td>\n",
       "    </tr>\n",
       "    <tr>\n",
       "      <th>32</th>\n",
       "      <td>DESMOND</td>\n",
       "      <td>2010</td>\n",
       "    </tr>\n",
       "    <tr>\n",
       "      <th>97</th>\n",
       "      <td>MILES</td>\n",
       "      <td>1387</td>\n",
       "    </tr>\n",
       "  </tbody>\n",
       "</table>\n",
       "</div>"
      ],
      "text/plain": [
       "    Character  Word Count\n",
       "66       JACK        4137\n",
       "12        BEN        4059\n",
       "81      LOCKE        3005\n",
       "77       KATE        2627\n",
       "64     HURLEY        2461\n",
       "135     SAYID        2421\n",
       "134    SAWYER        2260\n",
       "75     JULIET        2230\n",
       "32    DESMOND        2010\n",
       "97      MILES        1387"
      ]
     },
     "execution_count": 9,
     "metadata": {},
     "output_type": "execute_result"
    }
   ],
   "source": [
    "s4_cumul.sort_values(['Word Count'], ascending=False)[:10]"
   ]
  },
  {
   "cell_type": "code",
   "execution_count": 10,
   "id": "a145f2ba-b924-4ae2-a35c-af668bb8936e",
   "metadata": {},
   "outputs": [],
   "source": [
    "s5_cumul = pd.DataFrame()\n",
    "season = 5\n",
    "for ep_num in range(1,17):\n",
    "    episode_table = pd.read_csv(\"../Word Count Tables/Season \"+str(season)+'/S'+str(season)+'E'+str(ep_num)+'.csv')\n",
    "    s5_cumul = pd.concat([s5_cumul, episode_table], axis=0)\n",
    "s5_cumul = s5_cumul.groupby(['Character']).sum().reset_index()"
   ]
  },
  {
   "cell_type": "code",
   "execution_count": 11,
   "id": "982ebb06-1fc3-4b6d-b6a4-2185ba90fffa",
   "metadata": {},
   "outputs": [
    {
     "data": {
      "text/html": [
       "<div>\n",
       "<style scoped>\n",
       "    .dataframe tbody tr th:only-of-type {\n",
       "        vertical-align: middle;\n",
       "    }\n",
       "\n",
       "    .dataframe tbody tr th {\n",
       "        vertical-align: top;\n",
       "    }\n",
       "\n",
       "    .dataframe thead th {\n",
       "        text-align: right;\n",
       "    }\n",
       "</style>\n",
       "<table border=\"1\" class=\"dataframe\">\n",
       "  <thead>\n",
       "    <tr style=\"text-align: right;\">\n",
       "      <th></th>\n",
       "      <th>Character</th>\n",
       "      <th>Word Count</th>\n",
       "    </tr>\n",
       "  </thead>\n",
       "  <tbody>\n",
       "    <tr>\n",
       "      <th>139</th>\n",
       "      <td>SAWYER</td>\n",
       "      <td>6926</td>\n",
       "    </tr>\n",
       "    <tr>\n",
       "      <th>79</th>\n",
       "      <td>JACK</td>\n",
       "      <td>4400</td>\n",
       "    </tr>\n",
       "    <tr>\n",
       "      <th>94</th>\n",
       "      <td>LOCKE</td>\n",
       "      <td>4393</td>\n",
       "    </tr>\n",
       "    <tr>\n",
       "      <th>19</th>\n",
       "      <td>BEN</td>\n",
       "      <td>4085</td>\n",
       "    </tr>\n",
       "    <tr>\n",
       "      <th>65</th>\n",
       "      <td>FARADAY</td>\n",
       "      <td>3542</td>\n",
       "    </tr>\n",
       "    <tr>\n",
       "      <th>90</th>\n",
       "      <td>KATE</td>\n",
       "      <td>3529</td>\n",
       "    </tr>\n",
       "    <tr>\n",
       "      <th>77</th>\n",
       "      <td>HURLEY</td>\n",
       "      <td>3276</td>\n",
       "    </tr>\n",
       "    <tr>\n",
       "      <th>107</th>\n",
       "      <td>MILES</td>\n",
       "      <td>2759</td>\n",
       "    </tr>\n",
       "    <tr>\n",
       "      <th>89</th>\n",
       "      <td>JULIET</td>\n",
       "      <td>2508</td>\n",
       "    </tr>\n",
       "    <tr>\n",
       "      <th>132</th>\n",
       "      <td>RICHARD</td>\n",
       "      <td>1790</td>\n",
       "    </tr>\n",
       "  </tbody>\n",
       "</table>\n",
       "</div>"
      ],
      "text/plain": [
       "    Character  Word Count\n",
       "139    SAWYER        6926\n",
       "79       JACK        4400\n",
       "94      LOCKE        4393\n",
       "19        BEN        4085\n",
       "65    FARADAY        3542\n",
       "90       KATE        3529\n",
       "77     HURLEY        3276\n",
       "107     MILES        2759\n",
       "89     JULIET        2508\n",
       "132   RICHARD        1790"
      ]
     },
     "execution_count": 11,
     "metadata": {},
     "output_type": "execute_result"
    }
   ],
   "source": [
    "s5_cumul.sort_values(['Word Count'], ascending=False)[:10]"
   ]
  },
  {
   "cell_type": "code",
   "execution_count": 12,
   "id": "c5a000a3-4a2b-4bfe-a421-df5771d14b4a",
   "metadata": {},
   "outputs": [],
   "source": [
    "s6_cumul = pd.read_csv(\"../Word Count Tables/Season 6/S6E1.csv\")\n",
    "season = 6\n",
    "for ep_num in range(3,18):\n",
    "    episode_table = pd.read_csv(\"../Word Count Tables/Season \"+str(season)+'/S'+str(season)+'E'+str(ep_num)+'.csv')\n",
    "    s6_cumul = pd.concat([s6_cumul, episode_table], axis=0)\n",
    "s6_cumul = s6_cumul.groupby(['Character']).sum().reset_index()"
   ]
  },
  {
   "cell_type": "code",
   "execution_count": 13,
   "id": "7b8060a0-b7f0-4838-a36b-196c7a6b04f7",
   "metadata": {},
   "outputs": [
    {
     "data": {
      "text/html": [
       "<div>\n",
       "<style scoped>\n",
       "    .dataframe tbody tr th:only-of-type {\n",
       "        vertical-align: middle;\n",
       "    }\n",
       "\n",
       "    .dataframe tbody tr th {\n",
       "        vertical-align: top;\n",
       "    }\n",
       "\n",
       "    .dataframe thead th {\n",
       "        text-align: right;\n",
       "    }\n",
       "</style>\n",
       "<table border=\"1\" class=\"dataframe\">\n",
       "  <thead>\n",
       "    <tr style=\"text-align: right;\">\n",
       "      <th></th>\n",
       "      <th>Character</th>\n",
       "      <th>Word Count</th>\n",
       "    </tr>\n",
       "  </thead>\n",
       "  <tbody>\n",
       "    <tr>\n",
       "      <th>62</th>\n",
       "      <td>JACK</td>\n",
       "      <td>6197</td>\n",
       "    </tr>\n",
       "    <tr>\n",
       "      <th>79</th>\n",
       "      <td>LOCKE</td>\n",
       "      <td>5353</td>\n",
       "    </tr>\n",
       "    <tr>\n",
       "      <th>122</th>\n",
       "      <td>SAWYER</td>\n",
       "      <td>5052</td>\n",
       "    </tr>\n",
       "    <tr>\n",
       "      <th>56</th>\n",
       "      <td>HURLEY</td>\n",
       "      <td>3969</td>\n",
       "    </tr>\n",
       "    <tr>\n",
       "      <th>10</th>\n",
       "      <td>BEN</td>\n",
       "      <td>2924</td>\n",
       "    </tr>\n",
       "    <tr>\n",
       "      <th>36</th>\n",
       "      <td>DESMOND</td>\n",
       "      <td>2716</td>\n",
       "    </tr>\n",
       "    <tr>\n",
       "      <th>70</th>\n",
       "      <td>KATE</td>\n",
       "      <td>2490</td>\n",
       "    </tr>\n",
       "    <tr>\n",
       "      <th>117</th>\n",
       "      <td>RICHARD</td>\n",
       "      <td>2281</td>\n",
       "    </tr>\n",
       "    <tr>\n",
       "      <th>28</th>\n",
       "      <td>CLAIRE</td>\n",
       "      <td>1925</td>\n",
       "    </tr>\n",
       "    <tr>\n",
       "      <th>63</th>\n",
       "      <td>JACOB</td>\n",
       "      <td>1747</td>\n",
       "    </tr>\n",
       "  </tbody>\n",
       "</table>\n",
       "</div>"
      ],
      "text/plain": [
       "    Character  Word Count\n",
       "62       JACK        6197\n",
       "79      LOCKE        5353\n",
       "122    SAWYER        5052\n",
       "56     HURLEY        3969\n",
       "10        BEN        2924\n",
       "36    DESMOND        2716\n",
       "70       KATE        2490\n",
       "117   RICHARD        2281\n",
       "28     CLAIRE        1925\n",
       "63      JACOB        1747"
      ]
     },
     "execution_count": 13,
     "metadata": {},
     "output_type": "execute_result"
    }
   ],
   "source": [
    "s6_cumul.sort_values(['Word Count'], ascending=False)[:10]"
   ]
  },
  {
   "cell_type": "markdown",
   "id": "76a3e35f-296c-4380-901e-54e044997eec",
   "metadata": {},
   "source": [
    "## Top Ten Talkers Cumulatively\n",
    "\n",
    "Our first visual will be a stacked bar chart of the ten characters that said the most in the show. "
   ]
  },
  {
   "cell_type": "code",
   "execution_count": 14,
   "id": "23b28814-76d3-4b1e-979b-de634e893f7d",
   "metadata": {},
   "outputs": [
    {
     "data": {
      "text/html": [
       "<div>\n",
       "<style scoped>\n",
       "    .dataframe tbody tr th:only-of-type {\n",
       "        vertical-align: middle;\n",
       "    }\n",
       "\n",
       "    .dataframe tbody tr th {\n",
       "        vertical-align: top;\n",
       "    }\n",
       "\n",
       "    .dataframe thead th {\n",
       "        text-align: right;\n",
       "    }\n",
       "</style>\n",
       "<table border=\"1\" class=\"dataframe\">\n",
       "  <thead>\n",
       "    <tr style=\"text-align: right;\">\n",
       "      <th></th>\n",
       "      <th>Character</th>\n",
       "      <th>Word Count</th>\n",
       "    </tr>\n",
       "  </thead>\n",
       "  <tbody>\n",
       "    <tr>\n",
       "      <th>274</th>\n",
       "      <td>JACK</td>\n",
       "      <td>40094</td>\n",
       "    </tr>\n",
       "    <tr>\n",
       "      <th>530</th>\n",
       "      <td>SAWYER</td>\n",
       "      <td>32734</td>\n",
       "    </tr>\n",
       "    <tr>\n",
       "      <th>327</th>\n",
       "      <td>LOCKE</td>\n",
       "      <td>31633</td>\n",
       "    </tr>\n",
       "    <tr>\n",
       "      <th>259</th>\n",
       "      <td>HURLEY</td>\n",
       "      <td>23764</td>\n",
       "    </tr>\n",
       "    <tr>\n",
       "      <th>304</th>\n",
       "      <td>KATE</td>\n",
       "      <td>22964</td>\n",
       "    </tr>\n",
       "    <tr>\n",
       "      <th>532</th>\n",
       "      <td>SAYID</td>\n",
       "      <td>18424</td>\n",
       "    </tr>\n",
       "    <tr>\n",
       "      <th>63</th>\n",
       "      <td>BEN</td>\n",
       "      <td>17087</td>\n",
       "    </tr>\n",
       "    <tr>\n",
       "      <th>104</th>\n",
       "      <td>CHARLIE</td>\n",
       "      <td>16701</td>\n",
       "    </tr>\n",
       "    <tr>\n",
       "      <th>140</th>\n",
       "      <td>DESMOND</td>\n",
       "      <td>12444</td>\n",
       "    </tr>\n",
       "    <tr>\n",
       "      <th>379</th>\n",
       "      <td>MICHAEL</td>\n",
       "      <td>11029</td>\n",
       "    </tr>\n",
       "  </tbody>\n",
       "</table>\n",
       "</div>"
      ],
      "text/plain": [
       "    Character  Word Count\n",
       "274      JACK       40094\n",
       "530    SAWYER       32734\n",
       "327     LOCKE       31633\n",
       "259    HURLEY       23764\n",
       "304      KATE       22964\n",
       "532     SAYID       18424\n",
       "63        BEN       17087\n",
       "104   CHARLIE       16701\n",
       "140   DESMOND       12444\n",
       "379   MICHAEL       11029"
      ]
     },
     "execution_count": 14,
     "metadata": {},
     "output_type": "execute_result"
    }
   ],
   "source": [
    "show_cumul = pd.concat([s1_cumul, s2_cumul, s3_cumul, s4_cumul, s5_cumul, s6_cumul], axis=0).groupby(['Character']).sum().reset_index()\n",
    "show_cumul.sort_values(['Word Count'], ascending=False)[:10]"
   ]
  },
  {
   "cell_type": "code",
   "execution_count": 15,
   "id": "93f93e88-ba7a-47e3-92cf-d1b993c5e65f",
   "metadata": {},
   "outputs": [
    {
     "data": {
      "text/plain": [
       "['JACK',\n",
       " 'SAWYER',\n",
       " 'LOCKE',\n",
       " 'HURLEY',\n",
       " 'KATE',\n",
       " 'SAYID',\n",
       " 'BEN',\n",
       " 'CHARLIE',\n",
       " 'DESMOND',\n",
       " 'MICHAEL']"
      ]
     },
     "execution_count": 15,
     "metadata": {},
     "output_type": "execute_result"
    }
   ],
   "source": [
    "top_ten = show_cumul.reset_index().sort_values(['Word Count'], ascending=False)[:10]\n",
    "list(top_ten['Character'])"
   ]
  },
  {
   "cell_type": "code",
   "execution_count": 16,
   "id": "51865762-3f29-49b3-bdcc-29eec56b91d2",
   "metadata": {
    "jupyter": {
     "source_hidden": true
    }
   },
   "outputs": [
    {
     "data": {
      "text/plain": [
       "\"\\ny10 = np.array([s1_cumul.loc['JACK'].item(), s2_cumul.loc['JACK'].item(), s3_cumul.loc['JACK'].item(), s4_cumul.loc['JACK'].item(), s5_cumul.loc['JACK'].item(), s6_cumul.loc['JACK'].item()])\\ny9 = np.array([s1_cumul.loc['SAWYER'].item(), s2_cumul.loc['SAWYER'].item(), s3_cumul.loc['SAWYER'].item(), s4_cumul.loc['SAWYER'].item(), s5_cumul.loc['SAWYER'].item(), s6_cumul.loc['SAWYER'].item()])\\ny8 = np.array([s1_cumul.loc['LOCKE'].item(), s2_cumul.loc['LOCKE'].item(), s3_cumul.loc['LOCKE'].item(), s4_cumul.loc['LOCKE'].item(), s5_cumul.loc['LOCKE'].item(), s6_cumul.loc['LOCKE'].item()])\\ny7 = np.array([s1_cumul.loc['HURLEY'].item(), s2_cumul.loc['HURLEY'].item(), s3_cumul.loc['HURLEY'].item(), s4_cumul.loc['HURLEY'].item(), s5_cumul.loc['HURLEY'].item(), s6_cumul.loc['HURLEY'].item()])\\ny6 = np.array([s1_cumul.loc['KATE'].item(), s2_cumul.loc['KATE'].item(), s3_cumul.loc['KATE'].item(), s4_cumul.loc['KATE'].item(), s5_cumul.loc['KATE'].item(), s6_cumul.loc['KATE'].item()])\\ny5 = np.array([s1_cumul.loc['SAYID'].item(), s2_cumul.loc['SAYID'].item(), s3_cumul.loc['SAYID'].item(), s4_cumul.loc['SAYID'].item(), s5_cumul.loc['SAYID'].item(), s6_cumul.loc['SAYID'].item()])\\ny4 = np.array([s1_cumul.loc['BEN'].item(), s2_cumul.loc['BEN'].item(), s3_cumul.loc['BEN'].item(), s4_cumul.loc['BEN'].item(), s5_cumul.loc['BEN'].item(), s6_cumul.loc['BEN'].item()])\\ny3 = np.array([s1_cumul.loc['CHARLIE'].item(), s2_cumul.loc['CHARLIE'].item(), s3_cumul.loc['CHARLIE'].item(), s4_cumul.loc['CHARLIE'].item(), s5_cumul.loc['CHARLIE'].item(), s6_cumul.loc['CHARLIE'].item()])\\ny2 = np.array([s1_cumul.loc['DESMOND'].item(), s2_cumul.loc['DESMOND'].item(), s3_cumul.loc['DESMOND'].item(), s4_cumul.loc['DESMOND'].item(), s5_cumul.loc['DESMOND'].item(), s6_cumul.loc['DESMOND'].item()])\\ny1 = np.array([s1_cumul.loc['MICHAEL'].item(), s2_cumul.loc['MICHAEL'].item(), s3_cumul.loc['MICHAEL'].item(), s4_cumul.loc['MICHAEL'].item(), s5_cumul.loc['MICHAEL'].item(), s6_cumul.loc['MICHAEL'].item()])\\n\\n\""
      ]
     },
     "execution_count": 16,
     "metadata": {},
     "output_type": "execute_result"
    }
   ],
   "source": [
    "'''\n",
    "y10 = np.array([s1_cumul.loc['JACK'].item(), s2_cumul.loc['JACK'].item(), s3_cumul.loc['JACK'].item(), s4_cumul.loc['JACK'].item(), s5_cumul.loc['JACK'].item(), s6_cumul.loc['JACK'].item()])\n",
    "y9 = np.array([s1_cumul.loc['SAWYER'].item(), s2_cumul.loc['SAWYER'].item(), s3_cumul.loc['SAWYER'].item(), s4_cumul.loc['SAWYER'].item(), s5_cumul.loc['SAWYER'].item(), s6_cumul.loc['SAWYER'].item()])\n",
    "y8 = np.array([s1_cumul.loc['LOCKE'].item(), s2_cumul.loc['LOCKE'].item(), s3_cumul.loc['LOCKE'].item(), s4_cumul.loc['LOCKE'].item(), s5_cumul.loc['LOCKE'].item(), s6_cumul.loc['LOCKE'].item()])\n",
    "y7 = np.array([s1_cumul.loc['HURLEY'].item(), s2_cumul.loc['HURLEY'].item(), s3_cumul.loc['HURLEY'].item(), s4_cumul.loc['HURLEY'].item(), s5_cumul.loc['HURLEY'].item(), s6_cumul.loc['HURLEY'].item()])\n",
    "y6 = np.array([s1_cumul.loc['KATE'].item(), s2_cumul.loc['KATE'].item(), s3_cumul.loc['KATE'].item(), s4_cumul.loc['KATE'].item(), s5_cumul.loc['KATE'].item(), s6_cumul.loc['KATE'].item()])\n",
    "y5 = np.array([s1_cumul.loc['SAYID'].item(), s2_cumul.loc['SAYID'].item(), s3_cumul.loc['SAYID'].item(), s4_cumul.loc['SAYID'].item(), s5_cumul.loc['SAYID'].item(), s6_cumul.loc['SAYID'].item()])\n",
    "y4 = np.array([s1_cumul.loc['BEN'].item(), s2_cumul.loc['BEN'].item(), s3_cumul.loc['BEN'].item(), s4_cumul.loc['BEN'].item(), s5_cumul.loc['BEN'].item(), s6_cumul.loc['BEN'].item()])\n",
    "y3 = np.array([s1_cumul.loc['CHARLIE'].item(), s2_cumul.loc['CHARLIE'].item(), s3_cumul.loc['CHARLIE'].item(), s4_cumul.loc['CHARLIE'].item(), s5_cumul.loc['CHARLIE'].item(), s6_cumul.loc['CHARLIE'].item()])\n",
    "y2 = np.array([s1_cumul.loc['DESMOND'].item(), s2_cumul.loc['DESMOND'].item(), s3_cumul.loc['DESMOND'].item(), s4_cumul.loc['DESMOND'].item(), s5_cumul.loc['DESMOND'].item(), s6_cumul.loc['DESMOND'].item()])\n",
    "y1 = np.array([s1_cumul.loc['MICHAEL'].item(), s2_cumul.loc['MICHAEL'].item(), s3_cumul.loc['MICHAEL'].item(), s4_cumul.loc['MICHAEL'].item(), s5_cumul.loc['MICHAEL'].item(), s6_cumul.loc['MICHAEL'].item()])\n",
    "\n",
    "'''"
   ]
  },
  {
   "cell_type": "code",
   "execution_count": 17,
   "id": "bbee8f82-4cfd-4422-9737-97335b372dd5",
   "metadata": {
    "jupyter": {
     "source_hidden": true
    }
   },
   "outputs": [
    {
     "data": {
      "text/plain": [
       "\"\\ny1 = np.array([s1_cumul.loc['JACK'].item(), s1_cumul.loc['SAWYER'].item(), s1_cumul.loc['LOCKE'].item(), s1_cumul.loc['HURLEY'].item(), s1_cumul.loc['KATE'].item(), s1_cumul.loc['SAYID'].item(), s1_cumul.loc['BEN'].item(), s1_cumul.loc['CHARLIE'].item(), s1_cumul.loc['DESMOND'].item(), s1_cumul.loc['MICHAEL'].item()])\\ny2 = np.array([s2_cumul.loc['JACK'].item(), s2_cumul.loc['SAWYER'].item(), s2_cumul.loc['LOCKE'].item(), s2_cumul.loc['HURLEY'].item(), s2_cumul.loc['KATE'].item(), s2_cumul.loc['SAYID'].item(), s2_cumul.loc['BEN'].item(), s2_cumul.loc['CHARLIE'].item(), s2_cumul.loc['DESMOND'].item(), s2_cumul.loc['MICHAEL'].item()])\\ny3 = np.array([s3_cumul.loc['JACK'].item(), s3_cumul.loc['SAWYER'].item(), s3_cumul.loc['LOCKE'].item(), s3_cumul.loc['HURLEY'].item(), s3_cumul.loc['KATE'].item(), s3_cumul.loc['SAYID'].item(), s3_cumul.loc['BEN'].item(), s3_cumul.loc['CHARLIE'].item(), s3_cumul.loc['DESMOND'].item(), s3_cumul.loc['MICHAEL'].item()])\\ny4 = np.array([s4_cumul.loc['JACK'].item(), s4_cumul.loc['SAWYER'].item(), s4_cumul.loc['LOCKE'].item(), s4_cumul.loc['HURLEY'].item(), s4_cumul.loc['KATE'].item(), s4_cumul.loc['SAYID'].item(), s4_cumul.loc['BEN'].item(), s4_cumul.loc['CHARLIE'].item(), s4_cumul.loc['DESMOND'].item(), s4_cumul.loc['MICHAEL'].item()])\\ny5 = np.array([s5_cumul.loc['JACK'].item(), s5_cumul.loc['SAWYER'].item(), s5_cumul.loc['LOCKE'].item(), s5_cumul.loc['HURLEY'].item(), s5_cumul.loc['KATE'].item(), s5_cumul.loc['SAYID'].item(), s5_cumul.loc['BEN'].item(), s5_cumul.loc['CHARLIE'].item(), s5_cumul.loc['DESMOND'].item(), s5_cumul.loc['MICHAEL'].item()])\\ny6 = np.array([s6_cumul.loc['JACK'].item(), s6_cumul.loc['SAWYER'].item(), s6_cumul.loc['LOCKE'].item(), s6_cumul.loc['HURLEY'].item(), s6_cumul.loc['KATE'].item(), s6_cumul.loc['SAYID'].item(), s6_cumul.loc['BEN'].item(), s6_cumul.loc['CHARLIE'].item(), s6_cumul.loc['DESMOND'].item(), s6_cumul.loc['MICHAEL'].item()])\\n\\n\""
      ]
     },
     "execution_count": 17,
     "metadata": {},
     "output_type": "execute_result"
    }
   ],
   "source": [
    "'''\n",
    "y1 = np.array([s1_cumul.loc['JACK'].item(), s1_cumul.loc['SAWYER'].item(), s1_cumul.loc['LOCKE'].item(), s1_cumul.loc['HURLEY'].item(), s1_cumul.loc['KATE'].item(), s1_cumul.loc['SAYID'].item(), s1_cumul.loc['BEN'].item(), s1_cumul.loc['CHARLIE'].item(), s1_cumul.loc['DESMOND'].item(), s1_cumul.loc['MICHAEL'].item()])\n",
    "y2 = np.array([s2_cumul.loc['JACK'].item(), s2_cumul.loc['SAWYER'].item(), s2_cumul.loc['LOCKE'].item(), s2_cumul.loc['HURLEY'].item(), s2_cumul.loc['KATE'].item(), s2_cumul.loc['SAYID'].item(), s2_cumul.loc['BEN'].item(), s2_cumul.loc['CHARLIE'].item(), s2_cumul.loc['DESMOND'].item(), s2_cumul.loc['MICHAEL'].item()])\n",
    "y3 = np.array([s3_cumul.loc['JACK'].item(), s3_cumul.loc['SAWYER'].item(), s3_cumul.loc['LOCKE'].item(), s3_cumul.loc['HURLEY'].item(), s3_cumul.loc['KATE'].item(), s3_cumul.loc['SAYID'].item(), s3_cumul.loc['BEN'].item(), s3_cumul.loc['CHARLIE'].item(), s3_cumul.loc['DESMOND'].item(), s3_cumul.loc['MICHAEL'].item()])\n",
    "y4 = np.array([s4_cumul.loc['JACK'].item(), s4_cumul.loc['SAWYER'].item(), s4_cumul.loc['LOCKE'].item(), s4_cumul.loc['HURLEY'].item(), s4_cumul.loc['KATE'].item(), s4_cumul.loc['SAYID'].item(), s4_cumul.loc['BEN'].item(), s4_cumul.loc['CHARLIE'].item(), s4_cumul.loc['DESMOND'].item(), s4_cumul.loc['MICHAEL'].item()])\n",
    "y5 = np.array([s5_cumul.loc['JACK'].item(), s5_cumul.loc['SAWYER'].item(), s5_cumul.loc['LOCKE'].item(), s5_cumul.loc['HURLEY'].item(), s5_cumul.loc['KATE'].item(), s5_cumul.loc['SAYID'].item(), s5_cumul.loc['BEN'].item(), s5_cumul.loc['CHARLIE'].item(), s5_cumul.loc['DESMOND'].item(), s5_cumul.loc['MICHAEL'].item()])\n",
    "y6 = np.array([s6_cumul.loc['JACK'].item(), s6_cumul.loc['SAWYER'].item(), s6_cumul.loc['LOCKE'].item(), s6_cumul.loc['HURLEY'].item(), s6_cumul.loc['KATE'].item(), s6_cumul.loc['SAYID'].item(), s6_cumul.loc['BEN'].item(), s6_cumul.loc['CHARLIE'].item(), s6_cumul.loc['DESMOND'].item(), s6_cumul.loc['MICHAEL'].item()])\n",
    "\n",
    "'''"
   ]
  },
  {
   "cell_type": "code",
   "execution_count": 18,
   "id": "d4f964de-450b-4373-952b-98e6c6574fc3",
   "metadata": {
    "jupyter": {
     "source_hidden": true
    }
   },
   "outputs": [
    {
     "data": {
      "text/plain": [
       "\"\\ny1 = np.array([s1_cumul.ree.loc[name].item() for name in list(top_ten['Character'])])\\ny2 = np.array([s2_cumul.loc[name].item() for name in list(top_ten['Character'])])\\ny3 = np.array([s3_cumul.loc[name].item() for name in list(top_ten['Character'])])\\ny4 = np.array([s4_cumul.loc[name].item() for name in list(top_ten['Character'])])\\ny5 = np.array([s5_cumul.loc[name].item() for name in list(top_ten['Character'])])\\ny6 = np.array([s6_cumul.loc[name].item() for name in list(top_ten['Character'])])\\n\\n\\n\""
      ]
     },
     "execution_count": 18,
     "metadata": {},
     "output_type": "execute_result"
    }
   ],
   "source": [
    "'''\n",
    "y1 = np.array([s1_cumul.ree.loc[name].item() for name in list(top_ten['Character'])])\n",
    "y2 = np.array([s2_cumul.loc[name].item() for name in list(top_ten['Character'])])\n",
    "y3 = np.array([s3_cumul.loc[name].item() for name in list(top_ten['Character'])])\n",
    "y4 = np.array([s4_cumul.loc[name].item() for name in list(top_ten['Character'])])\n",
    "y5 = np.array([s5_cumul.loc[name].item() for name in list(top_ten['Character'])])\n",
    "y6 = np.array([s6_cumul.loc[name].item() for name in list(top_ten['Character'])])\n",
    "\n",
    "\n",
    "'''"
   ]
  },
  {
   "cell_type": "code",
   "execution_count": 19,
   "id": "d9e8af44-a270-4c80-9973-0c4207aedd13",
   "metadata": {},
   "outputs": [
    {
     "data": {
      "text/html": [
       "<div>\n",
       "<style scoped>\n",
       "    .dataframe tbody tr th:only-of-type {\n",
       "        vertical-align: middle;\n",
       "    }\n",
       "\n",
       "    .dataframe tbody tr th {\n",
       "        vertical-align: top;\n",
       "    }\n",
       "\n",
       "    .dataframe thead th {\n",
       "        text-align: right;\n",
       "    }\n",
       "</style>\n",
       "<table border=\"1\" class=\"dataframe\">\n",
       "  <thead>\n",
       "    <tr style=\"text-align: right;\">\n",
       "      <th></th>\n",
       "      <th>Character</th>\n",
       "      <th>Word Count</th>\n",
       "    </tr>\n",
       "  </thead>\n",
       "  <tbody>\n",
       "  </tbody>\n",
       "</table>\n",
       "</div>"
      ],
      "text/plain": [
       "Empty DataFrame\n",
       "Columns: [Character, Word Count]\n",
       "Index: []"
      ]
     },
     "execution_count": 19,
     "metadata": {},
     "output_type": "execute_result"
    }
   ],
   "source": [
    "s1_cumul[s1_cumul['Character']=='BEN']"
   ]
  },
  {
   "cell_type": "markdown",
   "id": "65310e6e-90b1-4bb6-87e8-f61b7cb4a0e7",
   "metadata": {},
   "source": [
    "At this point I realize Ben and Desmond need to have a value of 0 to count in the graphs, and also (spoiler alert) change Gale to be Ben."
   ]
  },
  {
   "cell_type": "code",
   "execution_count": 20,
   "id": "c8fcf2cf-3658-4339-b472-eb09ff0c568d",
   "metadata": {},
   "outputs": [],
   "source": [
    "s1_cumul.loc[s1_cumul.shape[0]+1] = ['BEN', 0]"
   ]
  },
  {
   "cell_type": "code",
   "execution_count": 21,
   "id": "597ac133-4884-493c-afee-43a07ee0b823",
   "metadata": {},
   "outputs": [
    {
     "data": {
      "text/html": [
       "<div>\n",
       "<style scoped>\n",
       "    .dataframe tbody tr th:only-of-type {\n",
       "        vertical-align: middle;\n",
       "    }\n",
       "\n",
       "    .dataframe tbody tr th {\n",
       "        vertical-align: top;\n",
       "    }\n",
       "\n",
       "    .dataframe thead th {\n",
       "        text-align: right;\n",
       "    }\n",
       "</style>\n",
       "<table border=\"1\" class=\"dataframe\">\n",
       "  <thead>\n",
       "    <tr style=\"text-align: right;\">\n",
       "      <th></th>\n",
       "      <th>Character</th>\n",
       "      <th>Word Count</th>\n",
       "    </tr>\n",
       "  </thead>\n",
       "  <tbody>\n",
       "    <tr>\n",
       "      <th>0</th>\n",
       "      <td>AGENT</td>\n",
       "      <td>138</td>\n",
       "    </tr>\n",
       "    <tr>\n",
       "      <th>1</th>\n",
       "      <td>AGENT COLE</td>\n",
       "      <td>324</td>\n",
       "    </tr>\n",
       "    <tr>\n",
       "      <th>2</th>\n",
       "      <td>AGENT HEWITT</td>\n",
       "      <td>113</td>\n",
       "    </tr>\n",
       "    <tr>\n",
       "      <th>3</th>\n",
       "      <td>AIRPORT ANNOUNCEMENT</td>\n",
       "      <td>29</td>\n",
       "    </tr>\n",
       "    <tr>\n",
       "      <th>4</th>\n",
       "      <td>AIRPORT COP</td>\n",
       "      <td>26</td>\n",
       "    </tr>\n",
       "    <tr>\n",
       "      <th>...</th>\n",
       "      <td>...</td>\n",
       "      <td>...</td>\n",
       "    </tr>\n",
       "    <tr>\n",
       "      <th>144</th>\n",
       "      <td>YOUNG KATE</td>\n",
       "      <td>67</td>\n",
       "    </tr>\n",
       "    <tr>\n",
       "      <th>145</th>\n",
       "      <td>YOUNG SAWYER</td>\n",
       "      <td>8</td>\n",
       "    </tr>\n",
       "    <tr>\n",
       "      <th>146</th>\n",
       "      <td>YOUNG TOM</td>\n",
       "      <td>94</td>\n",
       "    </tr>\n",
       "    <tr>\n",
       "      <th>147</th>\n",
       "      <td>YUSEF</td>\n",
       "      <td>19</td>\n",
       "    </tr>\n",
       "    <tr>\n",
       "      <th>149</th>\n",
       "      <td>BEN</td>\n",
       "      <td>0</td>\n",
       "    </tr>\n",
       "  </tbody>\n",
       "</table>\n",
       "<p>149 rows × 2 columns</p>\n",
       "</div>"
      ],
      "text/plain": [
       "                Character  Word Count\n",
       "0                   AGENT         138\n",
       "1              AGENT COLE         324\n",
       "2            AGENT HEWITT         113\n",
       "3    AIRPORT ANNOUNCEMENT          29\n",
       "4             AIRPORT COP          26\n",
       "..                    ...         ...\n",
       "144            YOUNG KATE          67\n",
       "145          YOUNG SAWYER           8\n",
       "146             YOUNG TOM          94\n",
       "147                 YUSEF          19\n",
       "149                   BEN           0\n",
       "\n",
       "[149 rows x 2 columns]"
      ]
     },
     "execution_count": 21,
     "metadata": {},
     "output_type": "execute_result"
    }
   ],
   "source": [
    "s1_cumul"
   ]
  },
  {
   "cell_type": "code",
   "execution_count": 22,
   "id": "52933b40-3228-4a87-b10f-c4b2480e22a0",
   "metadata": {},
   "outputs": [],
   "source": [
    "s2_cumul.replace('GALE','BEN', inplace=True)"
   ]
  },
  {
   "cell_type": "code",
   "execution_count": 23,
   "id": "3cc893b0-caa0-4a04-961e-4864f3b7350a",
   "metadata": {},
   "outputs": [],
   "source": [
    "s1_cumul.loc[s1_cumul.shape[0]+1] = ['DESMOND', 0]"
   ]
  },
  {
   "cell_type": "code",
   "execution_count": 24,
   "id": "5c848db8-be32-45dc-949c-967f084cb07e",
   "metadata": {},
   "outputs": [],
   "source": [
    "s3_cumul.loc[s1_cumul.shape[0]+1] = ['MICHAEL', 0]\n",
    "s5_cumul.loc[s1_cumul.shape[0]+1] = ['MICHAEL', 0]"
   ]
  },
  {
   "cell_type": "code",
   "execution_count": 29,
   "id": "18e20b76-89dd-4541-bf03-d13c5bfb3728",
   "metadata": {},
   "outputs": [
    {
     "data": {
      "image/png": "[encoded data removed]",
      "text/plain": [
       "<Figure size 640x480 with 1 Axes>"
      ]
     },
     "metadata": {},
     "output_type": "display_data"
    }
   ],
   "source": [
    "# create data\n",
    "\n",
    "x = list(top_ten['Character'])\n",
    "\n",
    "y1 = np.array([s1_cumul[s1_cumul['Character']==name]['Word Count'].values[0] for name in list(top_ten['Character'])])\n",
    "y2 = np.array([s2_cumul[s2_cumul['Character']==name]['Word Count'].values[0] for name in list(top_ten['Character'])])\n",
    "y3 = np.array([s3_cumul[s3_cumul['Character']==name]['Word Count'].values[0] for name in list(top_ten['Character'])])\n",
    "y4 = np.array([s4_cumul[s4_cumul['Character']==name]['Word Count'].values[0] for name in list(top_ten['Character'])])\n",
    "y5 = np.array([s5_cumul[s5_cumul['Character']==name]['Word Count'].values[0] for name in list(top_ten['Character'])])\n",
    "y6 = np.array([s6_cumul[s6_cumul['Character']==name]['Word Count'].values[0] for name in list(top_ten['Character'])])\n",
    "\n",
    "# plot bars in stack manner\n",
    "plt.bar(x, y1, align='center', color='tab:blue')\n",
    "plt.bar(x, y2, align='center',bottom=y1, color='tab:orange')\n",
    "plt.bar(x, y3, align='center',bottom=y1+y2, color='tab:green')\n",
    "plt.bar(x, y4, align='center',bottom=y1+y2+y3, color='tab:red')\n",
    "plt.bar(x, y5, align='center',bottom=y1+y2+y3+y4, color='tab:purple')\n",
    "plt.bar(x, y6, align='center',bottom=y1+y2+y3+y4+y5, color='tab:olive')\n",
    "\n",
    "plt.xlabel(\"Characters\",labelpad=30)\n",
    "plt.ylabel(\"Words Spoken\")\n",
    "plt.legend([\"Season 1\", \"Season 2\", \"Season 3\", \"Season 4\", 'Season 5', 'Season 6'])\n",
    "plt.title(\"Ten Most Talkative Characters in Lost\")\n",
    "plt.tick_params(axis='x', which='major')\n",
    "plt.xticks(rotation=30)\n",
    "plt.tight_layout()\n",
    "plt.savefig('top-ten-talkers.png')\n",
    "plt.show()"
   ]
  },
  {
   "cell_type": "markdown",
   "id": "171079df-a207-48b1-9dbb-8135af75462e",
   "metadata": {},
   "source": [
    "# References \n",
    "\n",
    "* https://www.geeksforgeeks.org/create-a-stacked-bar-plot-in-matplotlib/"
   ]
  },
  {
   "cell_type": "code",
   "execution_count": null,
   "id": "f836c800-edc1-4229-89ea-213330d22f10",
   "metadata": {},
   "outputs": [],
   "source": []
  }
 ],
 "metadata": {
  "kernelspec": {
   "display_name": "Python 3 (ipykernel)",
   "language": "python",
   "name": "python3"
  },
  "language_info": {
   "codemirror_mode": {
    "name": "ipython",
    "version": 3
   },
   "file_extension": ".py",
   "mimetype": "text/x-python",
   "name": "python",
   "nbconvert_exporter": "python",
   "pygments_lexer": "ipython3",
   "version": "3.12.7"
  }
 },
 "nbformat": 4,
 "nbformat_minor": 5
}
