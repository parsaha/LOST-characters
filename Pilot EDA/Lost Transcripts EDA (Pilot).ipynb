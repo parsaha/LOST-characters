{
 "cells": [
  {
   "cell_type": "markdown",
   "id": "0173bce9-aa23-43f1-8808-bd52687c8946",
   "metadata": {},
   "source": [
    "NOTE: When referencing episodes of the show, shorthand may be used (e.g., S3E7 is Season 3 Episode 7)."
   ]
  },
  {
   "cell_type": "markdown",
   "id": "da033303-bc95-46b4-bf4c-93b4b2a0aa53",
   "metadata": {},
   "source": [
    "# Lost Transcripts EDA\n",
    "\n",
    "## Data Collection\n",
    "\n",
    "To scrape the transcript data, we need to first see what the data looks like. We'll use Beautiful Soup to grab an example transcript's data (namely, S1E1) to determine how to extract the relevant information."
   ]
  },
  {
   "cell_type": "code",
   "execution_count": 1,
   "id": "9d31b968-81bf-4219-bbf8-ac5fd581c81c",
   "metadata": {},
   "outputs": [],
   "source": [
    "from matplotlib import pyplot as plt\n",
    "%matplotlib inline\n",
    "import pandas as pd\n",
    "from bs4 import BeautifulSoup\n",
    "import re"
   ]
  },
  {
   "cell_type": "code",
   "execution_count": 2,
   "id": "2938485b-e351-4418-8bbf-3e1d13c888c8",
   "metadata": {},
   "outputs": [
    {
     "name": "stdout",
     "output_type": "stream",
     "text": [
      "<!DOCTYPE html>\n",
      "<html class=\"client-nojs sse-other new-nav-canary\" lang=\"en\" dir=\"ltr\">\n",
      "<head>\n",
      "<meta charset=\"UTF-8\"/>\n",
      "<title>Pilot, Part 1 transcript | Lostpedia | Fandom</title>\n",
      "<script>document.documentElement.className=\"client-js sse-other new-nav-canary\";RLCONF={\"wgBreakFrames\":false,\"wgSeparatorTransformTable\":[\"\",\"\"],\"wgDigitTransformTable\":[\"\",\"\"],\"wgDefaultDateFormat\":\"dmy\",\"wgMonthNames\":[\"\",\"January\",\"February\",\"March\",\"April\",\"May\",\"June\",\"July\",\"August\",\"September\",\"October\",\"Novemb\n"
     ]
    }
   ],
   "source": [
    "from requests import get\n",
    "url = 'https://lostpedia.fandom.com/wiki/Pilot,_Part_1_transcript'\n",
    "response = get(url)\n",
    "print(response.text[:500])"
   ]
  },
  {
   "cell_type": "code",
   "execution_count": 3,
   "id": "c544f4b5-b58b-43c0-b4a7-d4f8578c0ae2",
   "metadata": {},
   "outputs": [
    {
     "data": {
      "text/plain": [
       "bs4.BeautifulSoup"
      ]
     },
     "execution_count": 3,
     "metadata": {},
     "output_type": "execute_result"
    }
   ],
   "source": [
    "html_soup = BeautifulSoup(response.text, 'html.parser')\n",
    "type(html_soup)"
   ]
  },
  {
   "cell_type": "markdown",
   "id": "b773c345-1750-48a5-9ab4-7fe51d933133",
   "metadata": {},
   "source": [
    "There's a lot of junk before (and after) the actual transcript, so we'll need to limit the text we extract accordingly. \n",
    "\n",
    "First, we grab the container that has the transcript in it. "
   ]
  },
  {
   "cell_type": "code",
   "execution_count": 4,
   "id": "bbc6800a-4a16-4d36-b524-8d5fa98a3746",
   "metadata": {},
   "outputs": [
    {
     "name": "stdout",
     "output_type": "stream",
     "text": [
      "<class 'bs4.element.ResultSet'>\n",
      "1\n"
     ]
    },
    {
     "data": {
      "text/plain": [
       "'\\n\\n\\nv\\xa0•\\xa0d\\xa0•\\xa0eTranscriptsSeason 11 • 2 • 3 • 4 • 5 • 6 • 7 • 8 • 9 • 10 • 11 • 12 • 13 • 14 • 15 • 16 • 17 • 18 • 19 • 20 • 21 • 22 • 23 • 24 / 25Season 21 • 2 • 3 • 4 • 5 • 6 • 7 • 8 • 9 • 10 • 11 • 12 • 13 • 14 • 15 • 16 • 17 • 18 • 19 • 20 • 21 • 22 • 23 / 24Season 31 • 2 • 3 • 4 • 5 • 6 • 7 • 8 • 9 • 10 • 11 • 12 • 13 • 14 • 15 • 16 • 17 • 18 • 19 • 20 • 21 • 22 / 23Season 41 • 2 • 3 • 4 • 5 • 6 • 7 •  8 • 9 • 10 • 11 • 12 • 13 / 14Season 51 • 2 • 3 • 4 • 5 • 6 •  7 • 8 • 9 • 10 • 11 • 12 • 13 • 14 • 15  • 16 / 17Season 61 / 2 • 3 • 4 • 5 • 6 • 7 • 8 • 9 • 10 • 11 • 12 • 13 • 14 • 15 • 16 • 17 / 18Clip showsDestiny Calls • The Story of the Oceanic 6 • A Journey in Time • Final ChapterDVD\\xa0commentariesPilot, Part 1 • Pilot, Part 2 • Walkabout • The Moth • Hearts and Minds • Man of Science, Man of Faith • What Kate Did • The 23rd Psalm • The Whole Truth • Dave • A Tale of Two Cities • I Do • Exposé • The Man Behind the Curtain • The Beginning of the End • The Constant • Ji Yeon • There\\'s No Place Like Home, Parts 2 & 3 • Because You Left • He\\'s Our You • LA X, Part 1 • Dr. Linus • Ab Aeterno • Across the SeaS1\\xa0DVD\\xa0ExtrasDeleted scenes • Backstage with Drive Shaft • Genesis of Lost • Lost: On Location • Welcome to OahuS2\\xa0DVD\\xa0ExtrasDeleted scenes • Lost Connections • Lost: On Location • Mysteries, Conspiracies and Theories • Secrets from the HatchS3\\xa0DVD\\xa0ExtrasDeleted scenes • The World of the Others • Access: GrantedS4\\xa0DVD\\xa0ExtrasDeleted scenes • The Oceanic Six: A Conspiracy of Lies • Soundtrack of Survival: Composing for Character, Conflict & the CrashS5\\xa0DVD\\xa0ExtrasDeleted scenesS6\\xa0DVD\\xa0ExtrasDeleted scenes • Epilogue • Lost on LocationComplete Collection ExtrasHow to Play Senet • Swan Song: Orchestrating the Final Moments of Lost • Black Rock journal entryEnhanced Episodes3x22e • 4x01e • 4x02e • 4x03e • 4x04e • 4x05e • 4x06e • 4x07e • 4x08e • 4x10e • 4x11e • 4x12e •  4x13e • 5x02e • 5x03e • 5x04e • 5x05e • 5x06e • 5x07e • 5x08e • 5x16e • 6x02e • 6x03e • 6x04e • 6x05e • 6x06e • 6x07e • 6x08e • 6x09e • 1x01 / 02e • 6x17eABC.comExpert CommentaryDr. LinusOfficialPodcasts11/08/05 • 11/14/05 • 11/21/05 • 11/28/05 • 01/09/06 • 01/09/06 (special) • 01/17/06 • 01/23/06 • 02/06/06 • 02/13/06 • 03/01/06 • 03/20/06 • 03/28/06 • 04/03/06 • 04/10/06 • 05/01/06 • 05/08/06 • 05/15/06 • 05/19/06 • 05/26/06 • 07/31/06 (ComicCon) • 10/03/06 • 10/09/06 • 10/17/06 • 10/25/06 • 10/30/06 • 11/03/06 • 11/06/06 • 12/06/06 • 01/30/07 • 02/12/07 • 02/20/07 • 02/27/07 • 03/05/07 • 03/20/07 • 03/26/07 •  03/30/07 • 04/05/07 • 04/10/07 •  04/16/07 • 04/20/07 • 04/30/07 • 05/04/07 •  05/11/07 • 05/21/07 • 05/23/07 • 08/02/07 (ComicCon) • 09/21/07 • 02/04/08 • 02/08/08 • 02/15/08 • 02/19/08 • 02/25/08 • 02/28/08 (audio) • 02/28/08 (video) • 03/06/08 • 03/10/08 • 03/21/08 • 04/19/08 • 04/25/08 (audio) • 04/25/08 (video) • 05/02/08 • 05/07/08 • 05/09/08 • 05/14/08 • 05/19/08 • 01/22/09 • 01/29/09 • 02/05/09 • 02/12/09 • 02/26/09 • 03/19/09 • 04/09/09 • 04/23/09 (audio) • 04/23/09 (video) • 04/30/09 • 05/04/09 • 05/08/09 • 05/11/09 • 05/16/09 • 07/29/09 • 08/06/09 • 09/22/09 • 12/21/09 • 01/27/10 • 02/04/10 (premiere) • 02/04/10 (video) • 02/04/10 (audio) • 02/11/10 • 02/22/10 • 03/04/10 • 03/05/10 (Paley Festival) • 03/05/10 (video) • 03/11/10 (video) • 03/11/10 (video 2) • 03/11/10 (audio) • 03/25/10 (audio) • 03/30/10 • 04/01/10 (audio) • 05/14/10 (video) • 05/20/10 (video)Missing\\xa0Pieces1 • 2 • 3 • 4 • 5 • 6 • 7 • 8 • 9 • 10 • 11 • 12 • 13Misc.Diary • Lost in 4:24 • Lost in 8:15 • Lost Moments • Oscar Talbot interview • Whispers • Lost Starter Kit • Lost Untangled • Mysteries of the Universe • Damon, Carlton and a Polar Bear\\n\\nA transcript is a retrospective written record of dialogue, and like a script (a prospective record) may include other scene information such as props or actions.  In the case of a transcript of a film or television episode, ideally it is a verbatim record. Because closed-captioning is usually written separately, its text may have errors and does not necessarily reflect the true Canonical transcript.\\n\\n\\nTranscripts for Lost episodes up to and including \"Enter 77\" are based on the transcriptions by Lost-TV member Spooky with aid of DVR, and at times, closed captions for clarification.  She and Lost-TV have generously granted us permission to share/host these transcripts at Lostpedia.  Later transcripts were created by the Lostpedia community, unless stated otherwise below.\\nDisclaimer: This transcript is intended for educational and promotional purposes only, and may not be reproduced commercially without permission from ABC.  The description contained herein represents viewers\\' secondhand experience of ABC\\'s Lost.\\n\\n\\nEpisode 1 - \"Pilot, Part 1\"\\nWritten by: J.J. Abrams & Damon Lindelof\\nDirected by: J.J. Abrams\\nStarring: Naveen Andrews, Emilie de Ravin, Matthew Fox, Jorge Garcia, Maggie Grace, Josh Holloway, Malcolm David Kelley, Daniel Dae Kim, Yunjin Kim, Evangeline Lilly, Dominic Monaghan, Terry O\\'Quinn, Harold Perrineau, Ian Somerhalder\\nGuest Starring: Fredric Lane, L. Scott Caldwell\\n\\n\\n[MAIN TITLE SCREEN]\\n\\nContents\\n\\n1 Act 1\\n2 Act 2\\n3 Act 3\\n4 Act 4\\n\\n\\nAct 1[]\\n[Shot of Jack\\'s eye opening, looking up at bamboo trees. Overhead shot panning out to show Jack is lying injured in a jungle. Jack sees a dog, slowly gets up, in pain. Finds a little liquor bottle in his pocket. Then he runs though the bamboo and emerges on a tropical beach. He sees plane wreckage and people running around, screaming, in distress. The engine is still spinning. Shannon is screaming louder than everyone. Charlie gets dangerously close to it. Jin yells out in Korean.]\\nMICHAEL: Walt! Walt!\\nREDSHIRT: Stay away from the gas! Stay there!\\n[Shannon screaming. Jack looks up at the wing.]\\nREDSHIRT #2: [trapped under the piece with the still moving engine] Help! Help! Somebody help me! Help! Help! Ahh, my leg! Ah! Ah!\\nJACK: Hey you, just give me a hand! You, come on! Come over here, give me a hand! [A group of redshirts (and Locke) gather around to lift the metal piece that\\'s trapping the man.] On the count of three: One, two, three.\\n[Jack pulls the man out from under. One leg is bloody. Jack starts ripping the man\\'s pants to get to the wound. Jack uses his tie as a tourniquet.]\\nCLAIRE: Help! Please help me! Help me, please help me!\\n[Jack sees Claire, who is is pregnant and on her hands and knees.]\\nJACK: [to a redshirt and Locke] All right, get him out of here! Get him away from the engine! Get him out of here!\\n[He runs over to Claire through a lot of wreckage.]\\nCLAIRE: Help me, please. I\\'m having, I\\'m having contractions.\\nJACK: How many months pregnant are you?\\nCLAIRE: I\\'m, I\\'m nearly eight months.\\n[Jack looks over and sees Boone doing CPR on Rose.]\\nJACK: [to Claire] How far apart are they coming?\\nCLAIRE: I don\\'t know, a-a few just happened.\\n[Shot of Locke and Redshirt carrying bad-leg-guy away. A man named Gary Troup starts walking in front of the engine and Locke sees him.]\\nLOCKE: Hey! Hey, hey, hey, get away from there!'"
      ]
     },
     "execution_count": 4,
     "metadata": {},
     "output_type": "execute_result"
    }
   ],
   "source": [
    "containers = html_soup.find_all('div', 'mw-body-content mw-content-ltr')\n",
    "print(type(containers))\n",
    "print(len(containers))\n",
    "containers[0].text[:7000]"
   ]
  },
  {
   "cell_type": "markdown",
   "id": "4847d13c-3562-4ab3-9530-18810852c6d6",
   "metadata": {},
   "source": [
    "As is obvious, we're not quite rid of all the junk yet, but it's a start. \n",
    "\n",
    "NOTE: While I could have began cutting up the data based on the actual text of the entire page (with something like `response.text.split('id=\\\"Act_1\\\"')[1]`), I found that grabbing the sole container that has the transcript embedded split more of the tail end of the undesired data. \n",
    "\n",
    "## Data Cleaning"
   ]
  },
  {
   "cell_type": "code",
   "execution_count": 5,
   "id": "555ad14f-c430-4dec-b5d0-6b1080d30d49",
   "metadata": {},
   "outputs": [],
   "source": [
    "transcript = containers[0].text"
   ]
  },
  {
   "cell_type": "markdown",
   "id": "53e193c0-0f6f-4dc9-a5bc-7f64cc7fd05e",
   "metadata": {},
   "source": [
    "We've created a variable `transcript` which we will keep whittling down until we have a `clean_transcript`."
   ]
  },
  {
   "cell_type": "code",
   "execution_count": 6,
   "id": "9bd99015-8062-4d92-bce8-317cfa7d1cc2",
   "metadata": {},
   "outputs": [],
   "source": [
    "transcript = transcript.split('Contents')[1]"
   ]
  },
  {
   "cell_type": "markdown",
   "id": "a71caa6a-56ea-4bb3-8f87-02d1da96774a",
   "metadata": {},
   "source": [
    "At this stage, we have a rough transcript isolated. Naturally, the first thought would be to remove stage directions so that we can begin to collect word counts for each of the characters. \n",
    "\n",
    "\n",
    "### Removing Stage Directions\n",
    "\n",
    "To remove the stage directions and reformat the current iteration of the transcript, we will:\n",
    "* separate substrings that are on either side of a bracket,\n",
    "* remove those substrings that are stage directions (i.e., not dialogue and not subtitles), and\n",
    "* reassembles the transcript to then separate according to return carriages."
   ]
  },
  {
   "cell_type": "code",
   "execution_count": 7,
   "id": "7bc5c2ca-237d-4e9a-911a-cb2ba0ff521d",
   "metadata": {},
   "outputs": [
    {
     "data": {
      "text/plain": [
       "['MICHAEL: Walt! Walt!',\n",
       " 'REDSHIRT: Stay away from the gas! Stay there!',\n",
       " 'REDSHIRT #2:  Help! Help! Somebody help me! Help! Help! Ahh, my leg! Ah! Ah!',\n",
       " 'JACK: Hey you, just give me a hand! You, come on! Come over here, give me a hand!  On the count of three: One, two, three.',\n",
       " 'CLAIRE: Help! Please help me! Help me, please help me!',\n",
       " 'JACK:  All right, get him out of here! Get him away from the engine! Get him out of here!',\n",
       " \"CLAIRE: Help me, please. I'm having, I'm having contractions.\",\n",
       " 'JACK: How many months pregnant are you?',\n",
       " \"CLAIRE: I'm, I'm nearly eight months.\",\n",
       " 'JACK:  How far apart are they coming?',\n",
       " \"CLAIRE: I don't know, a-a few just happened.\",\n",
       " 'LOCKE: Hey! Hey, hey, hey, get away from there!',\n",
       " 'GARY: What?',\n",
       " \"JACK: Listen to me! Look at me! You're going to be okay, do you understand me? But you have to sit absolutely still!\",\n",
       " 'JACK:  Hey, you! Come here! I need you to get this woman away from these fumes! Take her over there. Stay with her. If her contractions occur any closer than three minutes apart, call out for me.',\n",
       " 'HURLEY: Oh, you got to be kidding me.',\n",
       " \"JACK: I'll be right back, okay?\",\n",
       " 'CLAIRE: Thank you.',\n",
       " \"HURLEY: Hey! What's your name?\",\n",
       " 'JACK: Jack.',\n",
       " \"JACK: Stop! Her head's not tilted far back enough. You're blowing air into her stomach.\",\n",
       " 'BOONE: You sure?',\n",
       " \"BOONE: That's exactly what I was doing. I'm a lifeguard. I'm licensed.\",\n",
       " 'JACK: Yeah, well, you need to seriously think about giving that license back.',\n",
       " 'BOONE: Maybe we should do one of those hole things. You know, stick the pen in the throat?',\n",
       " 'JACK: Yeah, good idea. You go get me a pen.',\n",
       " 'JACK:  Come on. Come on! Come on! Come on!',\n",
       " 'JACK: Big deep breaths. Take breaths!',\n",
       " 'JACK:  Move! Move! Move! Get her up! Get her out of there! The wing!',\n",
       " 'JACK:  You okay?',\n",
       " 'CLAIRE: Yeah.',\n",
       " 'JACK:  You? . Stay with her.',\n",
       " \"HURLEY: Dude, I'm not going anywhere.\",\n",
       " \"BOONE:  I didn't know which one would work best.\",\n",
       " \"JACK: They're all good. Thanks.\",\n",
       " 'JACK: Excuse me. Did you ever use a needle?',\n",
       " 'KATE: What?',\n",
       " 'JACK: Did you ever … patch a pair of jeans?',\n",
       " 'KATE: I, uhm, I made the drapes in my apartment.',\n",
       " \"JACK: That's fantastic. Listen, do you have a second? I could use a little help here.\",\n",
       " 'KATE: And with what?',\n",
       " 'JACK: With this.',\n",
       " \"JACK: Look, I'd do it myself, I'm a doctor, but I just can't reach it.\",\n",
       " 'KATE: You want me to sew that up?',\n",
       " \"JACK: It's just like the drapes, same thing.\",\n",
       " 'KATE: No, with the drapes I used a sewing machine.',\n",
       " \"JACK: No, you can do this. I'm telling you. If you wouldn't mind.\",\n",
       " 'KATE: Of course I will.',\n",
       " \"JACK: Thank you.  It's for your hands. Save me some for the, for the wound.\",\n",
       " 'KATE: Any color preference?',\n",
       " 'JACK:  No. Standard black.',\n",
       " 'BOONE: Come on.',\n",
       " \"SAYID:  Hey you. What's your name?\",\n",
       " 'CHARLIE: Me? Charlie.',\n",
       " \"SAYID: Charlie. We need help with the fire. No-one will see it if it isn't big.\",\n",
       " \"CHARLIE: Okay, I'm on it. What's your name?\",\n",
       " 'SAYID: Sayid.',\n",
       " \"CHARLIE: Sayid. I'm on it, Sayid.\",\n",
       " 'KATE: I might throw up on you.',\n",
       " \"JACK:  You're doing fine.\",\n",
       " \"KATE: You don't seem afraid at all. I don't understand that.\",\n",
       " \"JACK: Well, fear's sort of an odd thing. When I was in residency, my first solo procedure was a spinal surgery on a 16 year old kid, a girl. And at the end, after 13 hours, I was closing her up and I, I accidentally ripped her dural sac. Shredded the base of the spine where all the nerves come together, membrane as thin as tissue. And so it ripped open. And the nerves just spilled out of her like angel hair pasta, spinal fluid flowing out of her and I … And the terror was just so … crazy. So real. And I knew I had to deal with it. (He's crying). So I just made a choice. I'd let the fear in, let it take over, let it do its thing, but only for five seconds, that's all I was going to give it. So I started to count: One, two, three, four, five. Then it was gone. I went back to work, sewed her up and she was fine.\",\n",
       " 'KATE: If that had been me, I think I would have run for the door.',\n",
       " \"JACK: No, I don't think that's true. You're not running now.\",\n",
       " 'SAYID: You think they would have come by now.',\n",
       " 'CHARLIE: Huh? Who?',\n",
       " 'SAYID: Anyone.',\n",
       " \"SHANNON: As if I'm going to start eating chocolate.\",\n",
       " 'BOONE: Shannon, we may be here for a while.',\n",
       " \"SHANNON: The plane had a black box, idiot. They know exactly where they are, they're coming. I'll eat on the rescue boat. . I'll. Eat. On. The. Rescue. Boat. \",\n",
       " 'HURLEY: Hungry?',\n",
       " 'CLAIRE: Yeah, thanks.',\n",
       " 'HURLEY: Anymore, uh... you know, baby stuff?',\n",
       " \"CLAIRE: No. I'm-I'm okay.\",\n",
       " 'HURLEY: Well, hang in there.',\n",
       " 'CLAIRE: Yeah, you too.',\n",
       " \"MICHAEL: You sure you're warm enough?\",\n",
       " \"JIN: 내 옆에서 없어지면 안 돼. 내가 어디로 가든지 꼭 따라와. 알겠지?  다른 사람 신경쓰지 말고 우린 같이 있어야 돼. Subtitle: You must not leave my sight. You must follow me wherever I go. Do you understand? Don't worry about the others. We need to stay together.\",\n",
       " \"KATE: Do you think he's going to live?\",\n",
       " 'JACK: Do you know him?',\n",
       " 'KATE: He was sitting next to me.',\n",
       " 'JACK:  We must have been at about 40,000 feet when it happened. Hit an air pocket. Dropped, maybe, 200 feet. The turbulence was … I blacked out.',\n",
       " \"KATE: I didn't. I saw the whole thing. I knew that the tail was gone, but I couldn't bring myself to look back. And then the, the front of the plane broke off.\",\n",
       " \"JACK: Well, it's not here on the beach. Neither is the tail. We need to figure out which way we came in.\",\n",
       " 'KATE: Why?',\n",
       " \"JACK: Because there's a chance we could find the cockpit. If it's intact, we might be able to find a transceiver. Send out a signal, help the rescue party find us.\",\n",
       " 'KATE: How do you know all that?',\n",
       " \"JACK: Took a couple flying lessons. Wasn't for me.\",\n",
       " \"KATE: I saw some smoke. Just through the valley. If you're thinking about going for the cockpit, I'm going with you.\",\n",
       " \"JACK: I don't know your name.\",\n",
       " \"KATE: I'm Kate.\",\n",
       " 'JACK: Jack.',\n",
       " 'SHANNON: What was that?',\n",
       " 'CHARLIE: That was weird, right?',\n",
       " 'WALT: Is that Vincent?',\n",
       " \"MICHAEL:  It's not Vincent.\",\n",
       " 'CLAIRE:  Did anybody see that?',\n",
       " 'HURLEY:  Yeah.',\n",
       " 'SHANNON: Boone!',\n",
       " 'CHARLIE: Terrific.',\n",
       " 'Act 2',\n",
       " \"CINDY: So, how's the drink?\",\n",
       " \"JACK: It's good.\",\n",
       " \"CINDY: That wasn't a very strong reaction.\",\n",
       " \"JACK: Well, it's not a very strong drink.\",\n",
       " \"CINDY:  Shhh. Just don't tell anyone.\",\n",
       " 'JACK: This of course breaks some critical FAA regulations.',\n",
       " 'CHARLIE: Excuse me.',\n",
       " 'CINDY:  Sir, excuse me!',\n",
       " 'ROSE:  Guess he really had to go.']"
      ]
     },
     "execution_count": 7,
     "metadata": {},
     "output_type": "execute_result"
    }
   ],
   "source": [
    "dialogue_transcript = transcript.replace(']','[').split('[') #list of things outside of stage directions\n",
    "for substring in dialogue_transcript:\n",
    "    if substring[:15].split(':')[0]!=substring[:15].split(':')[0].upper() and substring[:8]!='Subtitle':\n",
    "        dialogue_transcript.remove(substring)\n",
    "dialogue_transcript = list(filter(None, \"\".join(dialogue_transcript).split('\\n')))\n",
    "dialogue_transcript[:110]"
   ]
  },
  {
   "cell_type": "markdown",
   "id": "623855aa-9684-4d30-a6de-cd9d635b3067",
   "metadata": {},
   "source": [
    "Notice that we determine which substrings are dialogue by checking if the first few letters before a colon (should it exist) are uppercase--there is an assumption here that colons and stage directions to not appear in the same line of English dialogue at the same time. "
   ]
  },
  {
   "cell_type": "markdown",
   "id": "0f6b87c3-b54b-48d0-961b-2d41ca59d46f",
   "metadata": {},
   "source": [
    "At this point, retrieving the word count per character seems simple. However, we have a problem that needs to be addressed first: Jin and Sun regularly speak Korean.\n",
    "\n",
    "### Multilingual Transcripts"
   ]
  },
  {
   "cell_type": "code",
   "execution_count": 8,
   "id": "d26c915c-5e8f-49e1-9249-500a84eb5809",
   "metadata": {},
   "outputs": [
    {
     "data": {
      "text/plain": [
       "' 내 옆에서 없어지면 안 돼. 내가 어디로 가든지 꼭 따라와. 알겠지?  다른 사람 신경쓰지 말고 우린 같이'"
      ]
     },
     "execution_count": 8,
     "metadata": {},
     "output_type": "execute_result"
    }
   ],
   "source": [
    "\"\".join(dialogue_transcript).split('JIN:')[1][:60]"
   ]
  },
  {
   "cell_type": "markdown",
   "id": "f28fdc0e-3135-4ef0-b2ef-911a3f656732",
   "metadata": {},
   "source": [
    "Unfortunately, it would be remiss of us to count individual Korean characters as words. The good news is that subtitles are provided for the Korean text (as foreshadowed by the code we used to remove stage directions)."
   ]
  },
  {
   "cell_type": "code",
   "execution_count": 9,
   "id": "51bab61f-97e5-4187-b3f4-eb7b18f563d0",
   "metadata": {},
   "outputs": [
    {
     "data": {
      "text/plain": [
       "\" 내 옆에서 없어지면 안 돼. 내가 어디로 가든지 꼭 따라와. 알겠지?  다른 사람 신경쓰지 말고 우린 같이 있어야 돼. Subtitle: You must not leave my sight. You must follow me wherever I go. Do you understand? Don't worry about the others. We need to stay together.\""
      ]
     },
     "execution_count": 9,
     "metadata": {},
     "output_type": "execute_result"
    }
   ],
   "source": [
    "\"\".join(dialogue_transcript).split('JIN:')[1][:215]"
   ]
  },
  {
   "cell_type": "markdown",
   "id": "2fd0149a-f107-4431-a89f-7f1c2be103ed",
   "metadata": {},
   "source": [
    "Consequently, we'll want to remove the Korean as well as the \"Subtitle: \" that follow it.\n",
    "However, even then there are a couple of edge cases to consider:\n",
    "* What if a combination of English and Korean are spoken in the same line? How will word count be calculated then?\n",
    "    * E.g., JIN in S1E6 or S6E14.\n",
    "* Are we going to have the code account for _any_ character speaking Korean (i.e., even if their line of dialogue is not preceded by \"JIN:\" or \"SUN:\")?\n",
    "    * E.g., INTERIOR DECORATOR in S1E6.\n",
    " \n",
    "My initial reaction is to take the easiest route for both of these problems:\n",
    "* A cursory look through some transcripts that have Korean text seem to show that if there is ever English and Korean in the same line, the Korean greatly outweighs the English in word count, so it would not have much bearing on the overall accuracy of the project to ignore the English words that are spoken in the same line as Korean words.\n",
    "* Since the key takeaways from the project will be regarding the main characters primarily, it will not be a huge dent in our progress to simply disregard any characters speaking in Korean who are not Sun or Jin. (Despite this, our solution will clean foreign language dialogue independent of the character speaking it.)\n",
    "\n",
    "Having decided on these simplifications, we can start cleaning the Korean dialogue (and use the same method on other languages as well; e.g., Russian and Spanish in S6E9)."
   ]
  },
  {
   "cell_type": "markdown",
   "id": "62691dc6-f452-4432-b23e-0488a2cb7ab8",
   "metadata": {},
   "source": [
    "**Side Remark**: colons are not exclusive to dialogue indicators; there is at least one instance involving a Bible verse."
   ]
  },
  {
   "cell_type": "code",
   "execution_count": 10,
   "id": "80ccfb92-03a6-4a17-8af0-b03495271245",
   "metadata": {},
   "outputs": [
    {
     "data": {
      "text/plain": [
       "['CLAIRE: Yeah, you too.',\n",
       " \"MICHAEL: You sure you're warm enough?\",\n",
       " \"JIN: You must not leave my sight. You must follow me wherever I go. Do you understand? Don't worry about the others. We need to stay together.\",\n",
       " \"KATE: Do you think he's going to live?\",\n",
       " 'JACK: Do you know him?']"
      ]
     },
     "execution_count": 10,
     "metadata": {},
     "output_type": "execute_result"
    }
   ],
   "source": [
    "english_transcript = [dialogue.split(':')[0]+':'+dialogue.split(':')[2] if \"Subtitle:\" in dialogue else dialogue for dialogue in dialogue_transcript]\n",
    "english_transcript[75:80]"
   ]
  },
  {
   "cell_type": "markdown",
   "id": "0b9a5db6-3263-40ca-93a1-8439966ffbfb",
   "metadata": {},
   "source": [
    "Again, there is an implication above that colons do not occur in dialogue where there are also brackets. But otherwise it looks good!\n",
    "\n",
    "While we're at it, let's remove the instances of \"Act 2\", \"Act 3\", etc. (full disclosure: it is a bit odd to me that they survived the pruning that occurred when creating `dialogue_transcript`, but it's an easy enough fix that I will not think too hard on it)"
   ]
  },
  {
   "cell_type": "code",
   "execution_count": 11,
   "id": "47ea9515-c36a-4509-845d-26ca258bab46",
   "metadata": {},
   "outputs": [
    {
     "data": {
      "text/plain": [
       "['MICHAEL: Walt! Walt!',\n",
       " 'REDSHIRT: Stay away from the gas! Stay there!',\n",
       " 'REDSHIRT #2:  Help! Help! Somebody help me! Help! Help! Ahh, my leg! Ah! Ah!',\n",
       " 'JACK: Hey you, just give me a hand! You, come on! Come over here, give me a hand!  On the count of three: One, two, three.',\n",
       " 'CLAIRE: Help! Please help me! Help me, please help me!',\n",
       " 'JACK:  All right, get him out of here! Get him away from the engine! Get him out of here!',\n",
       " \"CLAIRE: Help me, please. I'm having, I'm having contractions.\",\n",
       " 'JACK: How many months pregnant are you?',\n",
       " \"CLAIRE: I'm, I'm nearly eight months.\",\n",
       " 'JACK:  How far apart are they coming?',\n",
       " \"CLAIRE: I don't know, a-a few just happened.\",\n",
       " 'LOCKE: Hey! Hey, hey, hey, get away from there!',\n",
       " 'GARY: What?',\n",
       " \"JACK: Listen to me! Look at me! You're going to be okay, do you understand me? But you have to sit absolutely still!\",\n",
       " 'JACK:  Hey, you! Come here! I need you to get this woman away from these fumes! Take her over there. Stay with her. If her contractions occur any closer than three minutes apart, call out for me.',\n",
       " 'HURLEY: Oh, you got to be kidding me.',\n",
       " \"JACK: I'll be right back, okay?\",\n",
       " 'CLAIRE: Thank you.',\n",
       " \"HURLEY: Hey! What's your name?\",\n",
       " 'JACK: Jack.',\n",
       " \"JACK: Stop! Her head's not tilted far back enough. You're blowing air into her stomach.\",\n",
       " 'BOONE: You sure?',\n",
       " \"BOONE: That's exactly what I was doing. I'm a lifeguard. I'm licensed.\",\n",
       " 'JACK: Yeah, well, you need to seriously think about giving that license back.',\n",
       " 'BOONE: Maybe we should do one of those hole things. You know, stick the pen in the throat?',\n",
       " 'JACK: Yeah, good idea. You go get me a pen.',\n",
       " 'JACK:  Come on. Come on! Come on! Come on!',\n",
       " 'JACK: Big deep breaths. Take breaths!',\n",
       " 'JACK:  Move! Move! Move! Get her up! Get her out of there! The wing!',\n",
       " 'JACK:  You okay?',\n",
       " 'CLAIRE: Yeah.',\n",
       " 'JACK:  You? . Stay with her.',\n",
       " \"HURLEY: Dude, I'm not going anywhere.\",\n",
       " \"BOONE:  I didn't know which one would work best.\",\n",
       " \"JACK: They're all good. Thanks.\",\n",
       " 'JACK: Excuse me. Did you ever use a needle?',\n",
       " 'KATE: What?',\n",
       " 'JACK: Did you ever … patch a pair of jeans?',\n",
       " 'KATE: I, uhm, I made the drapes in my apartment.',\n",
       " \"JACK: That's fantastic. Listen, do you have a second? I could use a little help here.\",\n",
       " 'KATE: And with what?',\n",
       " 'JACK: With this.',\n",
       " \"JACK: Look, I'd do it myself, I'm a doctor, but I just can't reach it.\",\n",
       " 'KATE: You want me to sew that up?',\n",
       " \"JACK: It's just like the drapes, same thing.\",\n",
       " 'KATE: No, with the drapes I used a sewing machine.',\n",
       " \"JACK: No, you can do this. I'm telling you. If you wouldn't mind.\",\n",
       " 'KATE: Of course I will.',\n",
       " \"JACK: Thank you.  It's for your hands. Save me some for the, for the wound.\",\n",
       " 'KATE: Any color preference?',\n",
       " 'JACK:  No. Standard black.',\n",
       " 'BOONE: Come on.',\n",
       " \"SAYID:  Hey you. What's your name?\",\n",
       " 'CHARLIE: Me? Charlie.',\n",
       " \"SAYID: Charlie. We need help with the fire. No-one will see it if it isn't big.\",\n",
       " \"CHARLIE: Okay, I'm on it. What's your name?\",\n",
       " 'SAYID: Sayid.',\n",
       " \"CHARLIE: Sayid. I'm on it, Sayid.\",\n",
       " 'KATE: I might throw up on you.',\n",
       " \"JACK:  You're doing fine.\",\n",
       " \"KATE: You don't seem afraid at all. I don't understand that.\",\n",
       " \"JACK: Well, fear's sort of an odd thing. When I was in residency, my first solo procedure was a spinal surgery on a 16 year old kid, a girl. And at the end, after 13 hours, I was closing her up and I, I accidentally ripped her dural sac. Shredded the base of the spine where all the nerves come together, membrane as thin as tissue. And so it ripped open. And the nerves just spilled out of her like angel hair pasta, spinal fluid flowing out of her and I … And the terror was just so … crazy. So real. And I knew I had to deal with it. (He's crying). So I just made a choice. I'd let the fear in, let it take over, let it do its thing, but only for five seconds, that's all I was going to give it. So I started to count: One, two, three, four, five. Then it was gone. I went back to work, sewed her up and she was fine.\",\n",
       " 'KATE: If that had been me, I think I would have run for the door.',\n",
       " \"JACK: No, I don't think that's true. You're not running now.\",\n",
       " 'SAYID: You think they would have come by now.',\n",
       " 'CHARLIE: Huh? Who?',\n",
       " 'SAYID: Anyone.',\n",
       " \"SHANNON: As if I'm going to start eating chocolate.\",\n",
       " 'BOONE: Shannon, we may be here for a while.',\n",
       " \"SHANNON: The plane had a black box, idiot. They know exactly where they are, they're coming. I'll eat on the rescue boat. . I'll. Eat. On. The. Rescue. Boat. \",\n",
       " 'HURLEY: Hungry?',\n",
       " 'CLAIRE: Yeah, thanks.',\n",
       " 'HURLEY: Anymore, uh... you know, baby stuff?',\n",
       " \"CLAIRE: No. I'm-I'm okay.\",\n",
       " 'HURLEY: Well, hang in there.',\n",
       " 'CLAIRE: Yeah, you too.',\n",
       " \"MICHAEL: You sure you're warm enough?\",\n",
       " \"JIN: You must not leave my sight. You must follow me wherever I go. Do you understand? Don't worry about the others. We need to stay together.\",\n",
       " \"KATE: Do you think he's going to live?\",\n",
       " 'JACK: Do you know him?',\n",
       " 'KATE: He was sitting next to me.',\n",
       " 'JACK:  We must have been at about 40,000 feet when it happened. Hit an air pocket. Dropped, maybe, 200 feet. The turbulence was … I blacked out.',\n",
       " \"KATE: I didn't. I saw the whole thing. I knew that the tail was gone, but I couldn't bring myself to look back. And then the, the front of the plane broke off.\",\n",
       " \"JACK: Well, it's not here on the beach. Neither is the tail. We need to figure out which way we came in.\",\n",
       " 'KATE: Why?',\n",
       " \"JACK: Because there's a chance we could find the cockpit. If it's intact, we might be able to find a transceiver. Send out a signal, help the rescue party find us.\",\n",
       " 'KATE: How do you know all that?',\n",
       " \"JACK: Took a couple flying lessons. Wasn't for me.\",\n",
       " \"KATE: I saw some smoke. Just through the valley. If you're thinking about going for the cockpit, I'm going with you.\",\n",
       " \"JACK: I don't know your name.\",\n",
       " \"KATE: I'm Kate.\",\n",
       " 'JACK: Jack.',\n",
       " 'SHANNON: What was that?',\n",
       " 'CHARLIE: That was weird, right?',\n",
       " 'WALT: Is that Vincent?',\n",
       " \"MICHAEL:  It's not Vincent.\",\n",
       " 'CLAIRE:  Did anybody see that?',\n",
       " 'HURLEY:  Yeah.',\n",
       " 'SHANNON: Boone!',\n",
       " 'CHARLIE: Terrific.',\n",
       " \"CINDY: So, how's the drink?\",\n",
       " \"JACK: It's good.\",\n",
       " \"CINDY: That wasn't a very strong reaction.\",\n",
       " \"JACK: Well, it's not a very strong drink.\",\n",
       " \"CINDY:  Shhh. Just don't tell anyone.\",\n",
       " 'JACK: This of course breaks some critical FAA regulations.',\n",
       " 'CHARLIE: Excuse me.',\n",
       " 'CINDY:  Sir, excuse me!',\n",
       " 'ROSE:  Guess he really had to go.',\n",
       " 'CINDY: Sir, excuse me!']"
      ]
     },
     "execution_count": 11,
     "metadata": {},
     "output_type": "execute_result"
    }
   ],
   "source": [
    "for dialogue in english_transcript:\n",
    "    if ':' not in dialogue:\n",
    "        english_transcript.remove(dialogue)\n",
    "english_transcript[:110]"
   ]
  },
  {
   "cell_type": "markdown",
   "id": "f5b3860a-6736-44ed-a6fb-8124f5c3490c",
   "metadata": {},
   "source": [
    "## Data Management\n",
    "\n",
    "We now have a transcript we can work with (`english_transcript`) to aggregate the word count for each character in this episode. "
   ]
  },
  {
   "cell_type": "markdown",
   "id": "71291613-a20f-4900-b093-2692efd7f8fc",
   "metadata": {},
   "source": [
    "### Arranging Transcript Data\n",
    "\n",
    "Our goal by the end of this notebook is to have a table that lists all the relevant data (character name, word count, episode rating, etc.) for this episode. To obtain the word count for each line of dialogue, we will take the primitive but reasonable approach of counting how many \"words\" (strings of characters separated by spaces) there are."
   ]
  },
  {
   "cell_type": "code",
   "execution_count": 12,
   "id": "5b4e24ab-59d8-4207-ad25-93c95ca30601",
   "metadata": {},
   "outputs": [
    {
     "data": {
      "text/html": [
       "<div>\n",
       "<style scoped>\n",
       "    .dataframe tbody tr th:only-of-type {\n",
       "        vertical-align: middle;\n",
       "    }\n",
       "\n",
       "    .dataframe tbody tr th {\n",
       "        vertical-align: top;\n",
       "    }\n",
       "\n",
       "    .dataframe thead th {\n",
       "        text-align: right;\n",
       "    }\n",
       "</style>\n",
       "<table border=\"1\" class=\"dataframe\">\n",
       "  <thead>\n",
       "    <tr style=\"text-align: right;\">\n",
       "      <th></th>\n",
       "      <th>Character</th>\n",
       "      <th>Word Count</th>\n",
       "    </tr>\n",
       "  </thead>\n",
       "  <tbody>\n",
       "    <tr>\n",
       "      <th>0</th>\n",
       "      <td>BOONE</td>\n",
       "      <td>66</td>\n",
       "    </tr>\n",
       "    <tr>\n",
       "      <th>1</th>\n",
       "      <td>CHARLIE</td>\n",
       "      <td>323</td>\n",
       "    </tr>\n",
       "    <tr>\n",
       "      <th>2</th>\n",
       "      <td>CINDY</td>\n",
       "      <td>45</td>\n",
       "    </tr>\n",
       "    <tr>\n",
       "      <th>3</th>\n",
       "      <td>CLAIRE</td>\n",
       "      <td>49</td>\n",
       "    </tr>\n",
       "    <tr>\n",
       "      <th>4</th>\n",
       "      <td>GARY</td>\n",
       "      <td>1</td>\n",
       "    </tr>\n",
       "    <tr>\n",
       "      <th>5</th>\n",
       "      <td>HURLEY</td>\n",
       "      <td>81</td>\n",
       "    </tr>\n",
       "    <tr>\n",
       "      <th>6</th>\n",
       "      <td>JACK</td>\n",
       "      <td>792</td>\n",
       "    </tr>\n",
       "    <tr>\n",
       "      <th>7</th>\n",
       "      <td>JIN</td>\n",
       "      <td>26</td>\n",
       "    </tr>\n",
       "    <tr>\n",
       "      <th>8</th>\n",
       "      <td>KATE</td>\n",
       "      <td>276</td>\n",
       "    </tr>\n",
       "    <tr>\n",
       "      <th>9</th>\n",
       "      <td>LOCKE</td>\n",
       "      <td>8</td>\n",
       "    </tr>\n",
       "    <tr>\n",
       "      <th>10</th>\n",
       "      <td>MICHAEL</td>\n",
       "      <td>34</td>\n",
       "    </tr>\n",
       "    <tr>\n",
       "      <th>11</th>\n",
       "      <td>PILOT</td>\n",
       "      <td>93</td>\n",
       "    </tr>\n",
       "    <tr>\n",
       "      <th>12</th>\n",
       "      <td>REDSHIRT</td>\n",
       "      <td>7</td>\n",
       "    </tr>\n",
       "    <tr>\n",
       "      <th>13</th>\n",
       "      <td>REDSHIRT #2</td>\n",
       "      <td>13</td>\n",
       "    </tr>\n",
       "    <tr>\n",
       "      <th>14</th>\n",
       "      <td>ROSE</td>\n",
       "      <td>65</td>\n",
       "    </tr>\n",
       "    <tr>\n",
       "      <th>15</th>\n",
       "      <td>SAWYER</td>\n",
       "      <td>6</td>\n",
       "    </tr>\n",
       "    <tr>\n",
       "      <th>16</th>\n",
       "      <td>SAYID</td>\n",
       "      <td>41</td>\n",
       "    </tr>\n",
       "    <tr>\n",
       "      <th>17</th>\n",
       "      <td>SHANNON</td>\n",
       "      <td>58</td>\n",
       "    </tr>\n",
       "    <tr>\n",
       "      <th>18</th>\n",
       "      <td>WALT</td>\n",
       "      <td>4</td>\n",
       "    </tr>\n",
       "  </tbody>\n",
       "</table>\n",
       "</div>"
      ],
      "text/plain": [
       "      Character  Word Count\n",
       "0         BOONE          66\n",
       "1       CHARLIE         323\n",
       "2         CINDY          45\n",
       "3        CLAIRE          49\n",
       "4          GARY           1\n",
       "5        HURLEY          81\n",
       "6          JACK         792\n",
       "7           JIN          26\n",
       "8          KATE         276\n",
       "9         LOCKE           8\n",
       "10      MICHAEL          34\n",
       "11        PILOT          93\n",
       "12     REDSHIRT           7\n",
       "13  REDSHIRT #2          13\n",
       "14         ROSE          65\n",
       "15       SAWYER           6\n",
       "16        SAYID          41\n",
       "17      SHANNON          58\n",
       "18         WALT           4"
      ]
     },
     "execution_count": 12,
     "metadata": {},
     "output_type": "execute_result"
    }
   ],
   "source": [
    "character_names = [dialogue.split(': ')[0] for dialogue in english_transcript]\n",
    "character_lines = [dialogue.split(': ')[1] for dialogue in english_transcript]\n",
    "character_wordcounts = [len(line.split(' ')) for line in character_lines]\n",
    "df = pd.DataFrame({'Character':character_names, 'Word Count':character_wordcounts})\n",
    "df = df.groupby('Character')['Word Count'].sum().reset_index()\n",
    "df"
   ]
  },
  {
   "cell_type": "markdown",
   "id": "52f02899-1aa6-461f-bd71-8490ba18f39a",
   "metadata": {},
   "source": [
    "### Importing Rating Data\n",
    "\n",
    "We now want to find out what the rating for this episode is. To do so, we can pull from [IMDb](https://www.imdb.com/). While working on my [IMDb project](https://github.com/parsaha/imdb/tree/master), I had realized too late that I had overlooked the existence of a [Python package](https://cinemagoer.github.io/) for the purpose of pulling data from IMDb. However, as of the writing of this notebook, it appears to be easier to simply scrape the scores using Beautiful Soup than attempt to parse `Cinemagoer`'s sparse documentation. (I even considered resorting to [PyMovieDb](https://pypi.org/project/PyMovieDb/#description), but it did not have the ratings per episode that we need.)\n",
    "* `Cinemagoer` would require me to obtain each individual episode's unique ID number and then send a request for the rating which takes (comparatively) long to receive a response to."
   ]
  },
  {
   "cell_type": "code",
   "execution_count": 13,
   "id": "6671492a-846f-4dbf-91ff-fa2393df6b80",
   "metadata": {},
   "outputs": [
    {
     "data": {
      "text/plain": [
       "'\\n403 Forbidden\\n\\n403 Forbidden\\n\\n\\n'"
      ]
     },
     "execution_count": 13,
     "metadata": {},
     "output_type": "execute_result"
    }
   ],
   "source": [
    "response = get('https://www.imdb.com/title/tt0411008/ratings/')\n",
    "html_soup = BeautifulSoup(response.text, 'html.parser')\n",
    "html_soup.text"
   ]
  },
  {
   "cell_type": "markdown",
   "id": "2f2fe698-8655-4b10-8c37-1180c836074f",
   "metadata": {},
   "source": [
    "<details> <summary> Ah. IMDb doesn't like visitors coming in through the side yard. I suppose that leaves us with the tedious front door. </summary> While one can take steps to appear more like an actual user in a browser and not a web scraper, there is always the possible issue of an IP ban down the line given the number of requests I will be sending (an issue I feel exits the scope of what I am willing to put my energy towards this project into). With that being said, I would much rather do things the hard way once than the easy way twenty times.  </details>"
   ]
  },
  {
   "cell_type": "code",
   "execution_count": 14,
   "id": "4d136655-c69b-48bd-b447-6203838faa51",
   "metadata": {},
   "outputs": [],
   "source": [
    "from imdb import Cinemagoer\n",
    "ia = Cinemagoer()\n",
    "lost = ia.get_movie('0411008')"
   ]
  },
  {
   "cell_type": "code",
   "execution_count": 15,
   "id": "93eeb4c6-d07d-4865-adba-38e2278c9a01",
   "metadata": {},
   "outputs": [
    {
     "ename": "KeyError",
     "evalue": "'episodes'",
     "output_type": "error",
     "traceback": [
      "\u001b[1;31m---------------------------------------------------------------------------\u001b[0m",
      "\u001b[1;31mKeyError\u001b[0m                                  Traceback (most recent call last)",
      "Cell \u001b[1;32mIn[15], line 2\u001b[0m\n\u001b[0;32m      1\u001b[0m ia\u001b[38;5;241m.\u001b[39mupdate(lost, \u001b[38;5;124m'\u001b[39m\u001b[38;5;124mepisodes\u001b[39m\u001b[38;5;124m'\u001b[39m)\n\u001b[1;32m----> 2\u001b[0m lost[\u001b[38;5;124m'\u001b[39m\u001b[38;5;124mepisodes\u001b[39m\u001b[38;5;124m'\u001b[39m]\n",
      "File \u001b[1;32m~\\AppData\\Roaming\\Python\\Python312\\site-packages\\imdb\\utils.py:1508\u001b[0m, in \u001b[0;36m_Container.__getitem__\u001b[1;34m(self, key)\u001b[0m\n\u001b[0;32m   1506\u001b[0m     rawData \u001b[38;5;241m=\u001b[39m \u001b[38;5;28mself\u001b[39m\u001b[38;5;241m.\u001b[39mdata[\u001b[38;5;28mself\u001b[39m\u001b[38;5;241m.\u001b[39mkeys_alias[key]]\n\u001b[0;32m   1507\u001b[0m \u001b[38;5;28;01melse\u001b[39;00m:\n\u001b[1;32m-> 1508\u001b[0m     rawData \u001b[38;5;241m=\u001b[39m \u001b[38;5;28mself\u001b[39m\u001b[38;5;241m.\u001b[39mdata[key]\n\u001b[0;32m   1509\u001b[0m \u001b[38;5;28;01mif\u001b[39;00m key \u001b[38;5;129;01min\u001b[39;00m \u001b[38;5;28mself\u001b[39m\u001b[38;5;241m.\u001b[39mkeys_tomodify \u001b[38;5;129;01mand\u001b[39;00m \\\n\u001b[0;32m   1510\u001b[0m         \u001b[38;5;28mself\u001b[39m\u001b[38;5;241m.\u001b[39mmodFunct \u001b[38;5;129;01mnot\u001b[39;00m \u001b[38;5;129;01min\u001b[39;00m (\u001b[38;5;28;01mNone\u001b[39;00m, modNull):\n\u001b[0;32m   1511\u001b[0m     \u001b[38;5;28;01mtry\u001b[39;00m:\n",
      "\u001b[1;31mKeyError\u001b[0m: 'episodes'"
     ]
    }
   ],
   "source": [
    "ia.update(lost, 'episodes')\n",
    "lost['episodes']"
   ]
  },
  {
   "cell_type": "markdown",
   "id": "532f795d-0777-4915-9ab9-8e2160218c53",
   "metadata": {},
   "source": [
    "And now it seems even example code from Cinemagoer's own [documentation](https://cinemagoer.readthedocs.io/en/latest/usage/series.html) won't work.\n",
    "\n",
    "To summarize this subsection of the notebook thus far:\n",
    "* We've tried and failed at scraping the IMDb page with Beautiful Soup.\n",
    "    * It does not seem worth the effort to implement the large number of workarounds it would take to (hopefully) avoid running into the `403 Forbidden` error at any point in the project.\n",
    "* We've tried and failed to use IMDb's `Cinemagoer` package.\n",
    "    * The package does not seem to work as the documentation would imply.\n",
    "* We've tried and failed to use an alternative (`PyMovieDb`) to `Cinemagoer`.\n",
    "    * Individual episode ratings do not seem to be among the info `PyMovieDb` is able to scrape from `Cinemagoer`... at least, there's nothing documented to demonstrate that such is the case.\n",
    " \n",
    "At this point, I only saw two realistic options: give up, or collect the scores manually. Thankfully, the number of episodes in the show is not large enough to deter me from seeing this through. I put [the scores]() together (in the `LOST_IMDb_Ratings` file) through a combination of an image-to-table site and some manual data entry. While we probably will not be integrating the score of the episode into the word count matrix we've created earlier, going through the hassle here allows us to write a cleaner walkthrough of the aggregation of all the transcripts' results.  "
   ]
  },
  {
   "cell_type": "markdown",
   "id": "f29ad084-9df1-4261-be1f-87ad624afd8c",
   "metadata": {},
   "source": [
    "### Saving Cleaned Data\n",
    "\n",
    "Finally, we want to be able to save our word count table for later reference. Each file will tiny, so a csv file suffices."
   ]
  },
  {
   "cell_type": "code",
   "execution_count": 16,
   "id": "2b000d82-0d3e-4238-8bab-b4943a25c91f",
   "metadata": {},
   "outputs": [],
   "source": [
    "df.to_csv('S1E1.csv', index=False)"
   ]
  },
  {
   "cell_type": "markdown",
   "id": "e84315ef-f832-4094-b1c7-513929a49fde",
   "metadata": {},
   "source": [
    "## References\n",
    "* https://stackoverflow.com/questions/3845423/remove-empty-strings-from-a-list-of-strings\n",
    "* https://stackoverflow.com/questions/4998629/split-string-with-multiple-delimiters-in-python\n",
    "* https://stackoverflow.com/questions/4260280/if-else-in-a-list-comprehension\n",
    "* https://gist.github.com/jbsulli/03df3cdce94ee97937ebda0ffef28287\n",
    "* https://dev.to/alexmercedcoder/all-about-parquet-part-08-reading-and-writing-parquet-files-in-python-338d"
   ]
  }
 ],
 "metadata": {
  "kernelspec": {
   "display_name": "Python 3 (ipykernel)",
   "language": "python",
   "name": "python3"
  },
  "language_info": {
   "codemirror_mode": {
    "name": "ipython",
    "version": 3
   },
   "file_extension": ".py",
   "mimetype": "text/x-python",
   "name": "python",
   "nbconvert_exporter": "python",
   "pygments_lexer": "ipython3",
   "version": "3.12.7"
  }
 },
 "nbformat": 4,
 "nbformat_minor": 5
}
